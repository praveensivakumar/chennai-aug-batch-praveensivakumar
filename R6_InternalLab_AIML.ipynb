{
 "cells": [
  {
   "cell_type": "markdown",
   "metadata": {
    "colab_type": "text",
    "id": "sb7Epo0VOB58"
   },
   "source": [
    "### Load tensorflow"
   ]
  },
  {
   "cell_type": "code",
   "execution_count": 1,
   "metadata": {
    "colab": {},
    "colab_type": "code",
    "id": "fHpCNRv1OB5-"
   },
   "outputs": [
    {
     "name": "stderr",
     "output_type": "stream",
     "text": [
      "/anaconda3/lib/python3.6/site-packages/h5py/__init__.py:36: FutureWarning: Conversion of the second argument of issubdtype from `float` to `np.floating` is deprecated. In future, it will be treated as `np.float64 == np.dtype(float).type`.\n",
      "  from ._conv import register_converters as _register_converters\n"
     ]
    }
   ],
   "source": [
    "import tensorflow as tf"
   ]
  },
  {
   "cell_type": "code",
   "execution_count": 2,
   "metadata": {
    "colab": {},
    "colab_type": "code",
    "id": "tnSsH8sNOB6F",
    "slideshow": {
     "slide_type": "fragment"
    }
   },
   "outputs": [],
   "source": [
    "#Reset Default graph - Needed only for Jupyter notebook\n",
    "tf.reset_default_graph()"
   ]
  },
  {
   "cell_type": "markdown",
   "metadata": {
    "colab_type": "text",
    "id": "DxJDmJqqOB6K",
    "slideshow": {
     "slide_type": "slide"
    }
   },
   "source": [
    "### Collect Data"
   ]
  },
  {
   "cell_type": "code",
   "execution_count": 3,
   "metadata": {
    "colab": {},
    "colab_type": "code",
    "id": "FhllFLyKOB6N"
   },
   "outputs": [],
   "source": [
    "import pandas as pd\n",
    "from sklearn import datasets, linear_model"
   ]
  },
  {
   "cell_type": "code",
   "execution_count": 4,
   "metadata": {},
   "outputs": [],
   "source": [
    "from sklearn.model_selection import train_test_split\n",
    "from matplotlib import pyplot as plt"
   ]
  },
  {
   "cell_type": "code",
   "execution_count": 5,
   "metadata": {
    "colab": {},
    "colab_type": "code",
    "id": "B4yQKMiJOB6R"
   },
   "outputs": [
    {
     "data": {
      "text/html": [
       "<div>\n",
       "<style scoped>\n",
       "    .dataframe tbody tr th:only-of-type {\n",
       "        vertical-align: middle;\n",
       "    }\n",
       "\n",
       "    .dataframe tbody tr th {\n",
       "        vertical-align: top;\n",
       "    }\n",
       "\n",
       "    .dataframe thead th {\n",
       "        text-align: right;\n",
       "    }\n",
       "</style>\n",
       "<table border=\"1\" class=\"dataframe\">\n",
       "  <thead>\n",
       "    <tr style=\"text-align: right;\">\n",
       "      <th></th>\n",
       "      <th>date</th>\n",
       "      <th>symbol</th>\n",
       "      <th>open</th>\n",
       "      <th>close</th>\n",
       "      <th>low</th>\n",
       "      <th>high</th>\n",
       "      <th>volume</th>\n",
       "    </tr>\n",
       "  </thead>\n",
       "  <tbody>\n",
       "    <tr>\n",
       "      <th>0</th>\n",
       "      <td>2016-01-05 00:00:00</td>\n",
       "      <td>WLTW</td>\n",
       "      <td>123.430000</td>\n",
       "      <td>125.839996</td>\n",
       "      <td>122.309998</td>\n",
       "      <td>126.250000</td>\n",
       "      <td>2163600.0</td>\n",
       "    </tr>\n",
       "    <tr>\n",
       "      <th>1</th>\n",
       "      <td>2016-01-06 00:00:00</td>\n",
       "      <td>WLTW</td>\n",
       "      <td>125.239998</td>\n",
       "      <td>119.980003</td>\n",
       "      <td>119.940002</td>\n",
       "      <td>125.540001</td>\n",
       "      <td>2386400.0</td>\n",
       "    </tr>\n",
       "    <tr>\n",
       "      <th>2</th>\n",
       "      <td>2016-01-07 00:00:00</td>\n",
       "      <td>WLTW</td>\n",
       "      <td>116.379997</td>\n",
       "      <td>114.949997</td>\n",
       "      <td>114.930000</td>\n",
       "      <td>119.739998</td>\n",
       "      <td>2489500.0</td>\n",
       "    </tr>\n",
       "    <tr>\n",
       "      <th>3</th>\n",
       "      <td>2016-01-08 00:00:00</td>\n",
       "      <td>WLTW</td>\n",
       "      <td>115.480003</td>\n",
       "      <td>116.620003</td>\n",
       "      <td>113.500000</td>\n",
       "      <td>117.440002</td>\n",
       "      <td>2006300.0</td>\n",
       "    </tr>\n",
       "    <tr>\n",
       "      <th>4</th>\n",
       "      <td>2016-01-11 00:00:00</td>\n",
       "      <td>WLTW</td>\n",
       "      <td>117.010002</td>\n",
       "      <td>114.970001</td>\n",
       "      <td>114.089996</td>\n",
       "      <td>117.330002</td>\n",
       "      <td>1408600.0</td>\n",
       "    </tr>\n",
       "  </tbody>\n",
       "</table>\n",
       "</div>"
      ],
      "text/plain": [
       "                  date symbol        open       close         low        high  \\\n",
       "0  2016-01-05 00:00:00   WLTW  123.430000  125.839996  122.309998  126.250000   \n",
       "1  2016-01-06 00:00:00   WLTW  125.239998  119.980003  119.940002  125.540001   \n",
       "2  2016-01-07 00:00:00   WLTW  116.379997  114.949997  114.930000  119.739998   \n",
       "3  2016-01-08 00:00:00   WLTW  115.480003  116.620003  113.500000  117.440002   \n",
       "4  2016-01-11 00:00:00   WLTW  117.010002  114.970001  114.089996  117.330002   \n",
       "\n",
       "      volume  \n",
       "0  2163600.0  \n",
       "1  2386400.0  \n",
       "2  2489500.0  \n",
       "3  2006300.0  \n",
       "4  1408600.0  "
      ]
     },
     "execution_count": 5,
     "metadata": {},
     "output_type": "execute_result"
    }
   ],
   "source": [
    "data_df = pd.read_csv('./prices.csv')\n",
    "data_df.head(5)"
   ]
  },
  {
   "cell_type": "markdown",
   "metadata": {
    "colab_type": "text",
    "id": "fgkX6SEqOB6W"
   },
   "source": [
    "### Check all columns in the dataset"
   ]
  },
  {
   "cell_type": "code",
   "execution_count": 6,
   "metadata": {},
   "outputs": [
    {
     "data": {
      "text/plain": [
       "Index(['date', 'symbol', 'open', 'close', 'low', 'high', 'volume'], dtype='object')"
      ]
     },
     "execution_count": 6,
     "metadata": {},
     "output_type": "execute_result"
    }
   ],
   "source": [
    "data_df.columns"
   ]
  },
  {
   "cell_type": "code",
   "execution_count": 7,
   "metadata": {
    "colab": {},
    "colab_type": "code",
    "id": "7K8pWsNQOB6X"
   },
   "outputs": [
    {
     "data": {
      "text/plain": [
       "date       object\n",
       "symbol     object\n",
       "open      float64\n",
       "close     float64\n",
       "low       float64\n",
       "high      float64\n",
       "volume    float64\n",
       "dtype: object"
      ]
     },
     "execution_count": 7,
     "metadata": {},
     "output_type": "execute_result"
    }
   ],
   "source": [
    "data_df.dtypes"
   ]
  },
  {
   "cell_type": "markdown",
   "metadata": {
    "colab_type": "text",
    "id": "7dU6X7MpOB6c"
   },
   "source": [
    "### Drop columns `date` and  `symbol`"
   ]
  },
  {
   "cell_type": "code",
   "execution_count": 8,
   "metadata": {
    "colab": {},
    "colab_type": "code",
    "id": "lh_6spSKOB6e"
   },
   "outputs": [],
   "source": [
    "data_df1 = data_df.drop(['date', 'symbol'], axis = 1)"
   ]
  },
  {
   "cell_type": "code",
   "execution_count": 9,
   "metadata": {
    "colab": {},
    "colab_type": "code",
    "id": "xlwbUgTwOB6i",
    "outputId": "56bad82a-f271-415a-e0d6-cbe1c4290743"
   },
   "outputs": [
    {
     "data": {
      "text/html": [
       "<div>\n",
       "<style scoped>\n",
       "    .dataframe tbody tr th:only-of-type {\n",
       "        vertical-align: middle;\n",
       "    }\n",
       "\n",
       "    .dataframe tbody tr th {\n",
       "        vertical-align: top;\n",
       "    }\n",
       "\n",
       "    .dataframe thead th {\n",
       "        text-align: right;\n",
       "    }\n",
       "</style>\n",
       "<table border=\"1\" class=\"dataframe\">\n",
       "  <thead>\n",
       "    <tr style=\"text-align: right;\">\n",
       "      <th></th>\n",
       "      <th>open</th>\n",
       "      <th>close</th>\n",
       "      <th>low</th>\n",
       "      <th>high</th>\n",
       "      <th>volume</th>\n",
       "    </tr>\n",
       "  </thead>\n",
       "  <tbody>\n",
       "    <tr>\n",
       "      <th>0</th>\n",
       "      <td>123.430000</td>\n",
       "      <td>125.839996</td>\n",
       "      <td>122.309998</td>\n",
       "      <td>126.250000</td>\n",
       "      <td>2163600.0</td>\n",
       "    </tr>\n",
       "    <tr>\n",
       "      <th>1</th>\n",
       "      <td>125.239998</td>\n",
       "      <td>119.980003</td>\n",
       "      <td>119.940002</td>\n",
       "      <td>125.540001</td>\n",
       "      <td>2386400.0</td>\n",
       "    </tr>\n",
       "    <tr>\n",
       "      <th>2</th>\n",
       "      <td>116.379997</td>\n",
       "      <td>114.949997</td>\n",
       "      <td>114.930000</td>\n",
       "      <td>119.739998</td>\n",
       "      <td>2489500.0</td>\n",
       "    </tr>\n",
       "    <tr>\n",
       "      <th>3</th>\n",
       "      <td>115.480003</td>\n",
       "      <td>116.620003</td>\n",
       "      <td>113.500000</td>\n",
       "      <td>117.440002</td>\n",
       "      <td>2006300.0</td>\n",
       "    </tr>\n",
       "    <tr>\n",
       "      <th>4</th>\n",
       "      <td>117.010002</td>\n",
       "      <td>114.970001</td>\n",
       "      <td>114.089996</td>\n",
       "      <td>117.330002</td>\n",
       "      <td>1408600.0</td>\n",
       "    </tr>\n",
       "  </tbody>\n",
       "</table>\n",
       "</div>"
      ],
      "text/plain": [
       "         open       close         low        high     volume\n",
       "0  123.430000  125.839996  122.309998  126.250000  2163600.0\n",
       "1  125.239998  119.980003  119.940002  125.540001  2386400.0\n",
       "2  116.379997  114.949997  114.930000  119.739998  2489500.0\n",
       "3  115.480003  116.620003  113.500000  117.440002  2006300.0\n",
       "4  117.010002  114.970001  114.089996  117.330002  1408600.0"
      ]
     },
     "execution_count": 9,
     "metadata": {},
     "output_type": "execute_result"
    }
   ],
   "source": [
    "data_df1.head()"
   ]
  },
  {
   "cell_type": "markdown",
   "metadata": {
    "colab_type": "text",
    "id": "3DBv3WWYOB6q"
   },
   "source": [
    "### Consider only first 1000 rows in the dataset for building feature set and target set"
   ]
  },
  {
   "cell_type": "code",
   "execution_count": 10,
   "metadata": {
    "colab": {},
    "colab_type": "code",
    "id": "Z_hG9rGBOB6s"
   },
   "outputs": [],
   "source": [
    "data_df1 = data_df1.head(1000)"
   ]
  },
  {
   "cell_type": "code",
   "execution_count": 11,
   "metadata": {},
   "outputs": [],
   "source": [
    "y = data_df1['close']\n",
    "data_df1 = data_df1.drop(['close'], axis=1)\n",
    "X = data_df1"
   ]
  },
  {
   "cell_type": "markdown",
   "metadata": {
    "colab_type": "text",
    "id": "M3UaApqYOB6x"
   },
   "source": [
    "### Divide the data into train and test sets"
   ]
  },
  {
   "cell_type": "code",
   "execution_count": 12,
   "metadata": {
    "colab": {},
    "colab_type": "code",
    "id": "2EkKAy7fOB6y"
   },
   "outputs": [
    {
     "name": "stdout",
     "output_type": "stream",
     "text": [
      "(800, 4) (800,)\n",
      "(200, 4) (200,)\n"
     ]
    }
   ],
   "source": [
    "# Split  training and testing from data\n",
    "X_train, X_test, y_train, y_test = train_test_split(data_df1, y, test_size=0.2)\n",
    "print(X_train.shape, y_train.shape)\n",
    "print (X_test.shape, y_test.shape)"
   ]
  },
  {
   "cell_type": "markdown",
   "metadata": {
    "colab_type": "text",
    "id": "v6vE4eYCOB62",
    "slideshow": {
     "slide_type": "slide"
    }
   },
   "source": [
    "## Building the graph in tensorflow"
   ]
  },
  {
   "cell_type": "markdown",
   "metadata": {
    "colab_type": "text",
    "id": "xK0zBd1VOB64",
    "slideshow": {
     "slide_type": "slide"
    }
   },
   "source": [
    "1.Define input data placeholders"
   ]
  },
  {
   "cell_type": "code",
   "execution_count": 13,
   "metadata": {
    "colab": {},
    "colab_type": "code",
    "id": "JDrYlWTuOB66"
   },
   "outputs": [],
   "source": [
    "# Define Input place holder\n",
    "#Input features\n",
    "x = tf.placeholder(shape=[None,4],dtype=tf.float32, name='x-input')\n",
    "x_n = tf.layers.batch_normalization(x, training=True)\n",
    "#Actual Prices\n",
    "y_ = tf.placeholder(shape=[None],dtype=tf.float32, name='y-input')"
   ]
  },
  {
   "cell_type": "markdown",
   "metadata": {
    "colab_type": "text",
    "id": "297_qja4OB7A",
    "slideshow": {
     "slide_type": "slide"
    }
   },
   "source": [
    "2.Define Weights and Bias"
   ]
  },
  {
   "cell_type": "code",
   "execution_count": 14,
   "metadata": {
    "colab": {},
    "colab_type": "code",
    "id": "L205qPeQOB7B"
   },
   "outputs": [],
   "source": [
    "# Define Weights and Bias\n",
    "W = tf.Variable(tf.zeros(shape=[4,1]), name=\"Weights\")\n",
    "b = tf.Variable(tf.zeros(shape=[1]), name=\"Bias\")"
   ]
  },
  {
   "cell_type": "markdown",
   "metadata": {
    "colab_type": "text",
    "id": "HgtWA-UIOB7F",
    "slideshow": {
     "slide_type": "slide"
    }
   },
   "source": [
    "3.Prediction"
   ]
  },
  {
   "cell_type": "code",
   "execution_count": 15,
   "metadata": {
    "colab": {},
    "colab_type": "code",
    "id": "JveGlx25OB7H"
   },
   "outputs": [],
   "source": [
    "# Prediction \n",
    "y = tf.add(tf.matmul(x_n,W),b,name='output')"
   ]
  },
  {
   "cell_type": "markdown",
   "metadata": {
    "colab_type": "text",
    "id": "TL1hIwf_OB7M",
    "slideshow": {
     "slide_type": "slide"
    }
   },
   "source": [
    "4.Loss (Cost) Function [Mean square error]"
   ]
  },
  {
   "cell_type": "code",
   "execution_count": 16,
   "metadata": {
    "colab": {},
    "colab_type": "code",
    "id": "8VSWPiGXOB7P"
   },
   "outputs": [],
   "source": [
    "# Loss (Cost) function [Mean square error]\n",
    "\n",
    "loss = tf.reduce_mean(tf.square(y-y_),name='Loss')"
   ]
  },
  {
   "cell_type": "markdown",
   "metadata": {
    "colab_type": "text",
    "id": "jzG85FUlOB7U",
    "slideshow": {
     "slide_type": "slide"
    }
   },
   "source": [
    "5.GradientDescent Optimizer to minimize Loss [GradientDescentOptimizer]"
   ]
  },
  {
   "cell_type": "code",
   "execution_count": 17,
   "metadata": {
    "colab": {},
    "colab_type": "code",
    "id": "cj802w-3OB7X"
   },
   "outputs": [],
   "source": [
    "# GradientDescent Optimizer to minimize Loss [GradientDescentOptimizer]\n",
    "train_op = tf.train.GradientDescentOptimizer(0.01).minimize(loss)"
   ]
  },
  {
   "cell_type": "markdown",
   "metadata": {
    "colab_type": "text",
    "id": "xSypb_u8OB7e",
    "slideshow": {
     "slide_type": "slide"
    }
   },
   "source": [
    "## Execute the Graph for 100 epochs and observe the loss"
   ]
  },
  {
   "cell_type": "code",
   "execution_count": 18,
   "metadata": {
    "colab": {},
    "colab_type": "code",
    "id": "DVvgj7eQOB7f"
   },
   "outputs": [],
   "source": [
    "#Lets start graph Execution\n",
    "sess = tf.Session()\n",
    "\n",
    "# variables need to be initialized before we can use them\n",
    "sess.run(tf.global_variables_initializer())\n",
    "\n",
    "#how many times data need to be shown to model\n",
    "training_epochs = 100"
   ]
  },
  {
   "cell_type": "code",
   "execution_count": 19,
   "metadata": {
    "colab": {},
    "colab_type": "code",
    "id": "9smwOW-1OB7k"
   },
   "outputs": [
    {
     "name": "stdout",
     "output_type": "stream",
     "text": [
      "Training loss at step:  0  is  8331.386\n",
      "Training loss at step:  10  is  6787.048\n",
      "Training loss at step:  20  is  5533.0903\n",
      "Training loss at step:  30  is  3684.5845\n",
      "Training loss at step:  40  is  3683.822\n",
      "Training loss at step:  50  is  3683.4668\n",
      "Training loss at step:  60  is  3683.3284\n",
      "Training loss at step:  70  is  3683.2363\n",
      "Training loss at step:  80  is  3683.186\n",
      "Training loss at step:  90  is  3683.1855\n"
     ]
    }
   ],
   "source": [
    "for epoch in range(training_epochs):\n",
    "            \n",
    "    #Calculate train_op and loss\n",
    "    _, train_loss = sess.run([train_op, loss],feed_dict={x:X_train, \n",
    "                                                        y_:y_train})\n",
    "    \n",
    "    if epoch % 10 == 0:\n",
    "        print ('Training loss at step: ', epoch, ' is ', train_loss)"
   ]
  },
  {
   "cell_type": "code",
   "execution_count": null,
   "metadata": {
    "colab": {},
    "colab_type": "code",
    "id": "9JuLI6bSOB7n"
   },
   "outputs": [],
   "source": []
  },
  {
   "cell_type": "markdown",
   "metadata": {
    "colab_type": "text",
    "id": "DOL2ncA1OB7q"
   },
   "source": [
    "### Get the shapes and values of W and b\n",
    "\n",
    "Hint: Use sess.run(W) to get W."
   ]
  },
  {
   "cell_type": "code",
   "execution_count": 20,
   "metadata": {
    "colab": {},
    "colab_type": "code",
    "id": "ZGvtyTeuOB7r"
   },
   "outputs": [
    {
     "data": {
      "text/plain": [
       "array([[68.2832]], dtype=float32)"
      ]
     },
     "execution_count": 20,
     "metadata": {},
     "output_type": "execute_result"
    }
   ],
   "source": [
    "sess.run(y, feed_dict={x:X_train[0:1]})"
   ]
  },
  {
   "cell_type": "code",
   "execution_count": 21,
   "metadata": {
    "colab": {},
    "colab_type": "code",
    "id": "vhDtOv5UOB7x"
   },
   "outputs": [
    {
     "name": "stdout",
     "output_type": "stream",
     "text": [
      "(4, 1) (1,)\n"
     ]
    }
   ],
   "source": [
    "sess.run(W)\n",
    "sess.run(b)\n",
    "print (W.shape, b.shape)"
   ]
  },
  {
   "cell_type": "code",
   "execution_count": 22,
   "metadata": {},
   "outputs": [],
   "source": [
    "_, test_loss = sess.run([train_op, loss],feed_dict={x:X_test, \n",
    "                                                        y_:y_test})"
   ]
  },
  {
   "cell_type": "code",
   "execution_count": null,
   "metadata": {},
   "outputs": [],
   "source": []
  },
  {
   "cell_type": "markdown",
   "metadata": {
    "colab_type": "text",
    "id": "SZqKUEFsOB71"
   },
   "source": [
    "### Find the Absolute mean square loss difference between training and testing loss."
   ]
  },
  {
   "cell_type": "code",
   "execution_count": 23,
   "metadata": {
    "colab": {},
    "colab_type": "code",
    "id": "97t-grQgOB71"
   },
   "outputs": [
    {
     "data": {
      "text/plain": [
       "1394.082"
      ]
     },
     "execution_count": 23,
     "metadata": {},
     "output_type": "execute_result"
    }
   ],
   "source": [
    "Abs_MS_Diff_loss = train_loss - test_loss\n",
    "Abs_MS_Diff_loss"
   ]
  },
  {
   "cell_type": "code",
   "execution_count": 24,
   "metadata": {
    "colab": {},
    "colab_type": "code",
    "id": "KjOInjUROB75"
   },
   "outputs": [
    {
     "data": {
      "text/plain": [
       "(1000, 4)"
      ]
     },
     "execution_count": 24,
     "metadata": {},
     "output_type": "execute_result"
    }
   ],
   "source": [
    "X.shape"
   ]
  },
  {
   "cell_type": "code",
   "execution_count": null,
   "metadata": {
    "colab": {},
    "colab_type": "code",
    "id": "CZUAjZ5oOB78"
   },
   "outputs": [],
   "source": []
  },
  {
   "cell_type": "markdown",
   "metadata": {
    "colab_type": "text",
    "id": "YJRBuqXhOB7_"
   },
   "source": [
    "### Linear Classification using Keras"
   ]
  },
  {
   "cell_type": "markdown",
   "metadata": {
    "colab_type": "text",
    "id": "8GoNTWXAOB8C",
    "slideshow": {
     "slide_type": "slide"
    }
   },
   "source": [
    "### Building the simple Neural Network in Keras with one neuron in the dense hidden layer.\n",
    "#### Use Mean square error as loss function and sgd as optimizer"
   ]
  },
  {
   "cell_type": "code",
   "execution_count": 25,
   "metadata": {
    "colab": {},
    "colab_type": "code",
    "id": "zpeL5rCTOB8D"
   },
   "outputs": [],
   "source": [
    "#Initialize Sequential model\n",
    "model = tf.keras.models.Sequential()\n",
    "\n",
    "#Reshape data from 2D to 1D -> 28x28 to 784\n",
    "#model.add(tf.keras.layers.Reshape(4000,),input_shape=(1000,4))\n",
    "\n",
    "#Normalize the data\n",
    "model.add(tf.keras.layers.BatchNormalization(input_shape =(4,)))\n",
    "\n",
    "#Add Dense Layer which provides 10 Outputs after applying softmax\n",
    "model.add(tf.keras.layers.Dense(1))\n",
    "\n",
    "#Comile the model\n",
    "model.compile(optimizer='sgd', loss='mse')"
   ]
  },
  {
   "cell_type": "markdown",
   "metadata": {
    "colab_type": "text",
    "id": "Wt-HYFMEOB8G",
    "slideshow": {
     "slide_type": "slide"
    }
   },
   "source": [
    "### Execute the model"
   ]
  },
  {
   "cell_type": "code",
   "execution_count": 26,
   "metadata": {
    "colab": {},
    "colab_type": "code",
    "id": "66JGJt7GOB8H"
   },
   "outputs": [
    {
     "name": "stdout",
     "output_type": "stream",
     "text": [
      "Train on 800 samples, validate on 200 samples\n",
      "Epoch 1/30\n",
      "800/800 [==============================] - 1s 937us/step - loss: 8113.0283 - val_loss: 2771.6855\n",
      "Epoch 2/30\n",
      "800/800 [==============================] - 0s 5us/step - loss: 6310.5898 - val_loss: 193384.7188\n",
      "Epoch 3/30\n",
      "800/800 [==============================] - 0s 6us/step - loss: 312.5311 - val_loss: 365624.8750\n",
      "Epoch 4/30\n",
      "800/800 [==============================] - 0s 6us/step - loss: 1511.3359 - val_loss: 1509.2734\n",
      "Epoch 5/30\n",
      "800/800 [==============================] - 0s 6us/step - loss: 6888.6450 - val_loss: 19631.8066\n",
      "Epoch 6/30\n",
      "800/800 [==============================] - 0s 6us/step - loss: 1769.3243 - val_loss: 309388.8438\n",
      "Epoch 7/30\n",
      "800/800 [==============================] - 0s 13us/step - loss: 4739.2769 - val_loss: 108.1544\n",
      "Epoch 8/30\n",
      "800/800 [==============================] - 0s 8us/step - loss: 4507.6514 - val_loss: 119041.7188\n",
      "Epoch 9/30\n",
      "800/800 [==============================] - 0s 6us/step - loss: 992.2283 - val_loss: 252.8761\n",
      "Epoch 10/30\n",
      "800/800 [==============================] - 0s 6us/step - loss: 5189.7036 - val_loss: 63006.2617\n",
      "Epoch 11/30\n",
      "800/800 [==============================] - 0s 41us/step - loss: 121.2868 - val_loss: 12606.5938\n",
      "Epoch 12/30\n",
      "800/800 [==============================] - 0s 21us/step - loss: 753.4286 - val_loss: 130431.9609\n",
      "Epoch 13/30\n",
      "800/800 [==============================] - 0s 25us/step - loss: 3284.5518 - val_loss: 4255.5405\n",
      "Epoch 14/30\n",
      "800/800 [==============================] - 0s 15us/step - loss: 7250.1206 - val_loss: 195.2472\n",
      "Epoch 15/30\n",
      "800/800 [==============================] - 0s 10us/step - loss: 4190.1138 - val_loss: 63344.0586\n",
      "Epoch 16/30\n",
      "800/800 [==============================] - 0s 11us/step - loss: 1051.3931 - val_loss: 1138.2095\n",
      "Epoch 17/30\n",
      "800/800 [==============================] - 0s 14us/step - loss: 5225.4448 - val_loss: 24818.7754\n",
      "Epoch 18/30\n",
      "800/800 [==============================] - 0s 19us/step - loss: 3.8848 - val_loss: 18199.5039\n",
      "Epoch 19/30\n",
      "800/800 [==============================] - 0s 11us/step - loss: 21.8402 - val_loss: 28678.5645\n",
      "Epoch 20/30\n",
      "800/800 [==============================] - 0s 10us/step - loss: 127.0734 - val_loss: 4956.4995\n",
      "Epoch 21/30\n",
      "800/800 [==============================] - 0s 22us/step - loss: 774.4711 - val_loss: 69157.3828\n",
      "Epoch 22/30\n",
      "800/800 [==============================] - 0s 8us/step - loss: 3106.7134 - val_loss: 4663.3311\n",
      "Epoch 23/30\n",
      "800/800 [==============================] - 0s 9us/step - loss: 7188.5718 - val_loss: 1755.8469\n",
      "Epoch 24/30\n",
      "800/800 [==============================] - 0s 15us/step - loss: 5218.8242 - val_loss: 12190.0898\n",
      "Epoch 25/30\n",
      "800/800 [==============================] - 0s 11us/step - loss: 18.8711 - val_loss: 19401.2832\n",
      "Epoch 26/30\n",
      "800/800 [==============================] - 0s 14us/step - loss: 95.2061 - val_loss: 4004.2139\n",
      "Epoch 27/30\n",
      "800/800 [==============================] - 0s 10us/step - loss: 557.6236 - val_loss: 45442.2188\n",
      "Epoch 28/30\n",
      "800/800 [==============================] - 0s 7us/step - loss: 2344.1316 - val_loss: 5010.3569\n",
      "Epoch 29/30\n",
      "800/800 [==============================] - 0s 14us/step - loss: 7267.9248 - val_loss: 4646.2891\n",
      "Epoch 30/30\n",
      "800/800 [==============================] - 0s 6us/step - loss: 6982.2720 - val_loss: 3060.1929\n"
     ]
    },
    {
     "data": {
      "text/plain": [
       "<tensorflow.python.keras.callbacks.History at 0x1084c24a8>"
      ]
     },
     "execution_count": 26,
     "metadata": {},
     "output_type": "execute_result"
    }
   ],
   "source": [
    "model.fit(X_train, y_train, \n",
    "          validation_data=(X_test, y_test), \n",
    "          epochs=30,\n",
    "          batch_size=X_train.shape[0])"
   ]
  },
  {
   "cell_type": "markdown",
   "metadata": {},
   "source": [
    "### Classification using Keras "
   ]
  },
  {
   "cell_type": "code",
   "execution_count": 27,
   "metadata": {},
   "outputs": [
    {
     "data": {
      "text/plain": [
       "Index(['Id', 'SepalLengthCm', 'SepalWidthCm', 'PetalLengthCm', 'PetalWidthCm',\n",
       "       'Species_Iris-setosa', 'Species_Iris-versicolor',\n",
       "       'Species_Iris-virginica'],\n",
       "      dtype='object')"
      ]
     },
     "execution_count": 27,
     "metadata": {},
     "output_type": "execute_result"
    }
   ],
   "source": [
    "# Load the Iris dataset\n",
    "iris_data = pd.read_csv('./Iris.csv')\n",
    "iris_data.head(5)\n",
    "iris_data = pd.get_dummies(iris_data,prefix=['Species'])\n",
    "iris_data.head(5)\n",
    "iris_data.columns"
   ]
  },
  {
   "cell_type": "markdown",
   "metadata": {},
   "source": [
    "### Load the given Iris data using pandas (Iris.csv)"
   ]
  },
  {
   "cell_type": "code",
   "execution_count": 28,
   "metadata": {},
   "outputs": [],
   "source": [
    "y = iris_data[['Species_Iris-setosa','Species_Iris-versicolor', 'Species_Iris-virginica']]\n",
    "X = iris_data.drop(['Species_Iris-setosa','Species_Iris-versicolor', 'Species_Iris-virginica','Id'],axis =1)"
   ]
  },
  {
   "cell_type": "markdown",
   "metadata": {},
   "source": [
    "### Splitting the data into feature set and target set"
   ]
  },
  {
   "cell_type": "code",
   "execution_count": 29,
   "metadata": {},
   "outputs": [
    {
     "name": "stdout",
     "output_type": "stream",
     "text": [
      "\n",
      "X_train:\n",
      "\n",
      "     SepalLengthCm  SepalWidthCm  PetalLengthCm  PetalWidthCm\n",
      "70             5.9           3.2            4.8           1.8\n",
      "111            6.4           2.7            5.3           1.9\n",
      "59             5.2           2.7            3.9           1.4\n",
      "71             6.1           2.8            4.0           1.3\n",
      "9              4.9           3.1            1.5           0.1\n",
      "(105, 4)\n",
      "\n",
      "X_test:\n",
      "\n",
      "     SepalLengthCm  SepalWidthCm  PetalLengthCm  PetalWidthCm\n",
      "55             5.7           2.8            4.5           1.3\n",
      "145            6.7           3.0            5.2           2.3\n",
      "92             5.8           2.6            4.0           1.2\n",
      "10             5.4           3.7            1.5           0.2\n",
      "120            6.9           3.2            5.7           2.3\n",
      "(45, 4)\n"
     ]
    }
   ],
   "source": [
    "X_train, X_test, y_train, y_test = train_test_split(X, y,test_size=0.3)\n",
    "print(\"\\nX_train:\\n\")\n",
    "print(X_train.head())\n",
    "print(X_train.shape)\n",
    "\n",
    "print(\"\\nX_test:\\n\")\n",
    "print(X_test.head())\n",
    "print(X_test.shape)"
   ]
  },
  {
   "cell_type": "markdown",
   "metadata": {},
   "source": [
    "### Target set has different categories. So, Label encode them. And convert into one-hot vectors using get_dummies in pandas."
   ]
  },
  {
   "cell_type": "code",
   "execution_count": null,
   "metadata": {},
   "outputs": [],
   "source": []
  },
  {
   "cell_type": "markdown",
   "metadata": {},
   "source": [
    "### Divide the dataset into Training and test (70:30)"
   ]
  },
  {
   "cell_type": "code",
   "execution_count": null,
   "metadata": {},
   "outputs": [],
   "source": []
  },
  {
   "cell_type": "markdown",
   "metadata": {},
   "source": [
    "### Model\n",
    "Build the model with following layers: <br>\n",
    "1. First dense layer with 10 neurons with input shape 4 (according to the feature set) <br>\n",
    "2. Second Dense layer with 8 neurons <br>\n",
    "3. Output layer with 3 neurons with softmax activation (output layer, 3 neurons as we have 3 classes) <br>\n",
    "4. Use SGD and categorical_crossentropy loss "
   ]
  },
  {
   "cell_type": "code",
   "execution_count": 30,
   "metadata": {},
   "outputs": [],
   "source": [
    "#Initialize Sequential model\n",
    "model = tf.keras.models.Sequential()\n",
    "\n",
    "#Reshape data from 2D to 1D -> 28x28 to 784\n",
    "#model.add(tf.keras.layers.Reshape(4000,),input_shape=(1000,4))\n",
    "\n",
    "#Normalize the data\n",
    "model.add(tf.keras.layers.BatchNormalization(input_shape = (4,)))\n",
    "\n",
    "#Add Dense Layer which provides 10 Outputs after applying softmax\n",
    "model.add(tf.keras.layers.Dense(3))\n",
    "\n",
    "#Comile the model\n",
    "model.compile(optimizer='sgd', loss='mse')"
   ]
  },
  {
   "cell_type": "markdown",
   "metadata": {},
   "source": [
    "### Fitting the model and predicting "
   ]
  },
  {
   "cell_type": "code",
   "execution_count": 31,
   "metadata": {},
   "outputs": [],
   "source": [
    "#Add 1st hidden layer\n",
    "model.add(tf.keras.layers.Dense(10, activation='relu'))"
   ]
  },
  {
   "cell_type": "code",
   "execution_count": 32,
   "metadata": {},
   "outputs": [],
   "source": [
    "#Add 2nd hidden layer\n",
    "model.add(tf.keras.layers.Dense(8, activation='relu'))"
   ]
  },
  {
   "cell_type": "code",
   "execution_count": 33,
   "metadata": {},
   "outputs": [],
   "source": [
    "#Add OUTPUT layer\n",
    "model.add(tf.keras.layers.Dense(3, activation='softmax'))"
   ]
  },
  {
   "cell_type": "code",
   "execution_count": 34,
   "metadata": {},
   "outputs": [],
   "source": [
    "#Create optimizer with non-default learning rate\n",
    "sgd_optimizer = tf.keras.optimizers.SGD(lr=0.03)\n",
    "\n",
    "#Compile the model\n",
    "model.compile(optimizer=sgd_optimizer, loss='categorical_crossentropy', metrics=['accuracy'])"
   ]
  },
  {
   "cell_type": "code",
   "execution_count": 35,
   "metadata": {},
   "outputs": [
    {
     "name": "stdout",
     "output_type": "stream",
     "text": [
      "_________________________________________________________________\n",
      "Layer (type)                 Output Shape              Param #   \n",
      "=================================================================\n",
      "batch_normalization_2 (Batch (None, 4)                 16        \n",
      "_________________________________________________________________\n",
      "dense_1 (Dense)              (None, 3)                 15        \n",
      "_________________________________________________________________\n",
      "dense_2 (Dense)              (None, 10)                40        \n",
      "_________________________________________________________________\n",
      "dense_3 (Dense)              (None, 8)                 88        \n",
      "_________________________________________________________________\n",
      "dense_4 (Dense)              (None, 3)                 27        \n",
      "=================================================================\n",
      "Total params: 186\n",
      "Trainable params: 178\n",
      "Non-trainable params: 8\n",
      "_________________________________________________________________\n"
     ]
    }
   ],
   "source": [
    "model.summary()"
   ]
  },
  {
   "cell_type": "code",
   "execution_count": 36,
   "metadata": {},
   "outputs": [
    {
     "name": "stdout",
     "output_type": "stream",
     "text": [
      "Train on 105 samples, validate on 45 samples\n",
      "Epoch 1/30\n",
      "105/105 [==============================] - 1s 13ms/step - loss: 0.9454 - acc: 0.6000 - val_loss: 1.3239 - val_acc: 0.2889\n",
      "Epoch 2/30\n",
      "105/105 [==============================] - 0s 172us/step - loss: 0.8978 - acc: 0.6667 - val_loss: 1.3281 - val_acc: 0.2889\n",
      "Epoch 3/30\n",
      "105/105 [==============================] - 0s 250us/step - loss: 0.8670 - acc: 0.6952 - val_loss: 1.3388 - val_acc: 0.2889\n",
      "Epoch 4/30\n",
      "105/105 [==============================] - 0s 226us/step - loss: 0.8249 - acc: 0.7048 - val_loss: 1.3330 - val_acc: 0.2889\n",
      "Epoch 5/30\n",
      "105/105 [==============================] - 0s 207us/step - loss: 0.7873 - acc: 0.7429 - val_loss: 1.3181 - val_acc: 0.2889\n",
      "Epoch 6/30\n",
      "105/105 [==============================] - 0s 246us/step - loss: 0.7804 - acc: 0.7333 - val_loss: 1.3177 - val_acc: 0.2889\n",
      "Epoch 7/30\n",
      "105/105 [==============================] - 0s 409us/step - loss: 0.7034 - acc: 0.7810 - val_loss: 1.3023 - val_acc: 0.2889\n",
      "Epoch 8/30\n",
      "105/105 [==============================] - 0s 235us/step - loss: 0.6840 - acc: 0.7524 - val_loss: 1.2968 - val_acc: 0.2889\n",
      "Epoch 9/30\n",
      "105/105 [==============================] - 0s 281us/step - loss: 0.6509 - acc: 0.7714 - val_loss: 1.3015 - val_acc: 0.2889\n",
      "Epoch 10/30\n",
      "105/105 [==============================] - 0s 234us/step - loss: 0.6275 - acc: 0.8000 - val_loss: 1.2626 - val_acc: 0.3333\n",
      "Epoch 11/30\n",
      "105/105 [==============================] - 0s 252us/step - loss: 0.5824 - acc: 0.8000 - val_loss: 1.1881 - val_acc: 0.5778\n",
      "Epoch 12/30\n",
      "105/105 [==============================] - 0s 257us/step - loss: 0.5609 - acc: 0.7810 - val_loss: 1.1641 - val_acc: 0.6222\n",
      "Epoch 13/30\n",
      "105/105 [==============================] - 0s 234us/step - loss: 0.5186 - acc: 0.8000 - val_loss: 1.1242 - val_acc: 0.5333\n",
      "Epoch 14/30\n",
      "105/105 [==============================] - 0s 214us/step - loss: 0.5066 - acc: 0.7905 - val_loss: 1.0930 - val_acc: 0.4444\n",
      "Epoch 15/30\n",
      "105/105 [==============================] - 0s 261us/step - loss: 0.4831 - acc: 0.7714 - val_loss: 1.0709 - val_acc: 0.3778\n",
      "Epoch 16/30\n",
      "105/105 [==============================] - 0s 261us/step - loss: 0.4951 - acc: 0.7905 - val_loss: 1.0444 - val_acc: 0.3778\n",
      "Epoch 17/30\n",
      "105/105 [==============================] - 0s 210us/step - loss: 0.4563 - acc: 0.7619 - val_loss: 1.0074 - val_acc: 0.3778\n",
      "Epoch 18/30\n",
      "105/105 [==============================] - 0s 234us/step - loss: 0.4518 - acc: 0.8095 - val_loss: 0.9772 - val_acc: 0.3778\n",
      "Epoch 19/30\n",
      "105/105 [==============================] - 0s 256us/step - loss: 0.4240 - acc: 0.8571 - val_loss: 0.9467 - val_acc: 0.3778\n",
      "Epoch 20/30\n",
      "105/105 [==============================] - 0s 210us/step - loss: 0.4230 - acc: 0.8286 - val_loss: 0.9137 - val_acc: 0.3778\n",
      "Epoch 21/30\n",
      "105/105 [==============================] - 0s 247us/step - loss: 0.4722 - acc: 0.7619 - val_loss: 0.8860 - val_acc: 0.3778\n",
      "Epoch 22/30\n",
      "105/105 [==============================] - 0s 265us/step - loss: 0.3830 - acc: 0.8190 - val_loss: 0.8569 - val_acc: 0.3778\n",
      "Epoch 23/30\n",
      "105/105 [==============================] - 0s 229us/step - loss: 0.4303 - acc: 0.8000 - val_loss: 0.8244 - val_acc: 0.4000\n",
      "Epoch 24/30\n",
      "105/105 [==============================] - 0s 231us/step - loss: 0.4040 - acc: 0.8000 - val_loss: 0.8054 - val_acc: 0.4000\n",
      "Epoch 25/30\n",
      "105/105 [==============================] - 0s 235us/step - loss: 0.3614 - acc: 0.8190 - val_loss: 0.7656 - val_acc: 0.4222\n",
      "Epoch 26/30\n",
      "105/105 [==============================] - 0s 213us/step - loss: 0.3625 - acc: 0.8381 - val_loss: 0.7171 - val_acc: 0.4889\n",
      "Epoch 27/30\n",
      "105/105 [==============================] - 0s 253us/step - loss: 0.3509 - acc: 0.8571 - val_loss: 0.6666 - val_acc: 0.5556\n",
      "Epoch 28/30\n",
      "105/105 [==============================] - 0s 289us/step - loss: 0.3809 - acc: 0.8286 - val_loss: 0.6377 - val_acc: 0.6000\n",
      "Epoch 29/30\n",
      "105/105 [==============================] - 0s 212us/step - loss: 0.3457 - acc: 0.8286 - val_loss: 0.6145 - val_acc: 0.6222\n",
      "Epoch 30/30\n",
      "105/105 [==============================] - 0s 248us/step - loss: 0.3462 - acc: 0.8381 - val_loss: 0.5693 - val_acc: 0.6667\n"
     ]
    },
    {
     "data": {
      "text/plain": [
       "<tensorflow.python.keras.callbacks.History at 0x1a2bb28c88>"
      ]
     },
     "execution_count": 36,
     "metadata": {},
     "output_type": "execute_result"
    }
   ],
   "source": [
    "model.fit(X_train,y_train,          \n",
    "          validation_data=(X_test,y_test),\n",
    "          epochs=30,\n",
    "          batch_size=32)"
   ]
  },
  {
   "cell_type": "markdown",
   "metadata": {},
   "source": [
    "### Report Accuracy of the predicted values"
   ]
  },
  {
   "cell_type": "code",
   "execution_count": 37,
   "metadata": {},
   "outputs": [
    {
     "name": "stdout",
     "output_type": "stream",
     "text": [
      "45/45 [==============================] - 0s 178us/step\n"
     ]
    },
    {
     "data": {
      "text/plain": [
       "[0.5693430198563469, 0.6666666719648573]"
      ]
     },
     "execution_count": 37,
     "metadata": {},
     "output_type": "execute_result"
    }
   ],
   "source": [
    "scores = model.evaluate(X_test,y_test)\n",
    "scores"
   ]
  }
 ],
 "metadata": {
  "colab": {
   "name": "Linear+classification+using+Tensorflow+and+Keras.ipynb",
   "provenance": [],
   "version": "0.3.2"
  },
  "kernelspec": {
   "display_name": "Python 3",
   "language": "python",
   "name": "python3"
  },
  "language_info": {
   "codemirror_mode": {
    "name": "ipython",
    "version": 3
   },
   "file_extension": ".py",
   "mimetype": "text/x-python",
   "name": "python",
   "nbconvert_exporter": "python",
   "pygments_lexer": "ipython3",
   "version": "3.6.5"
  }
 },
 "nbformat": 4,
 "nbformat_minor": 1
}
