{
 "cells": [
  {
   "cell_type": "markdown",
   "metadata": {
    "colab_type": "text",
    "id": "IgJNvpw9SnZq"
   },
   "source": [
    "#### In this problem we use \"Transfer Learning\" of an Object Detector model to detect any object according to the problem in hand.\n",
    "\n",
    "Here, We are particularly interested in detecting faces in a given image.\n",
    "\n",
    "#### To use the model first, we need to import the model and its supporting files for the model to function. \n",
    "\n",
    "We see the below steps to import the model."
   ]
  },
  {
   "cell_type": "code",
   "execution_count": 0,
   "metadata": {
    "colab": {
     "base_uri": "https://localhost:8080/",
     "height": 54
    },
    "colab_type": "code",
    "id": "8tU8LHAPOVkH",
    "outputId": "57b50a61-b398-4739-d849-f4583dddf64f"
   },
   "outputs": [
    {
     "name": "stdout",
     "output_type": "stream",
     "text": [
      "Drive already mounted at /content/drive/; to attempt to forcibly remount, call drive.mount(\"/content/drive/\", force_remount=True).\n"
     ]
    }
   ],
   "source": [
    "from google.colab import drive\n",
    "drive.mount('/content/drive/')"
   ]
  },
  {
   "cell_type": "code",
   "execution_count": 0,
   "metadata": {
    "colab": {},
    "colab_type": "code",
    "id": "R2aNVef0QctC"
   },
   "outputs": [],
   "source": [
    "import os\n",
    "os.chdir('/content/drive/My Drive/AIML/Residency 9/Project 1')"
   ]
  },
  {
   "cell_type": "markdown",
   "metadata": {
    "colab_type": "text",
    "id": "HtnH8CujQfxM"
   },
   "source": [
    "### Import MobileNet model given in file `mn_model.py`"
   ]
  },
  {
   "cell_type": "code",
   "execution_count": 0,
   "metadata": {
    "colab": {},
    "colab_type": "code",
    "id": "FtnDz1qkQESM"
   },
   "outputs": [],
   "source": [
    "from mn_model import mn_model"
   ]
  },
  {
   "cell_type": "markdown",
   "metadata": {
    "colab_type": "text",
    "id": "dwNy4u8zQk1H"
   },
   "source": [
    "### Import the BatchGenerator and SSDLoss functions in given files `face_generator.py`, `keras_ssd_loss` and `ssd_box_encode_decode_utils.py` as well, used in MobileNet model"
   ]
  },
  {
   "cell_type": "code",
   "execution_count": 0,
   "metadata": {
    "colab": {},
    "colab_type": "code",
    "id": "3gVMOicwQlg_"
   },
   "outputs": [],
   "source": [
    "from face_generator import BatchGenerator\n",
    "from keras_ssd_loss import SSDLoss\n",
    "from ssd_box_encode_decode_utils import SSDBoxEncoder, decode_y, decode_y2"
   ]
  },
  {
   "cell_type": "code",
   "execution_count": 0,
   "metadata": {
    "colab": {},
    "colab_type": "code",
    "id": "tkzbMq9UeuCM"
   },
   "outputs": [],
   "source": [
    "import warnings\n",
    "warnings.filterwarnings(\"ignore\")\n",
    "from keras.optimizers import Adam, SGD, Nadam\n",
    "from keras.callbacks import ModelCheckpoint, EarlyStopping, ReduceLROnPlateau, TensorBoard, LearningRateScheduler\n",
    "from keras.callbacks import Callback\n",
    "from keras import backend as K \n",
    "from keras.models import load_model\n",
    "from math import ceil \n",
    "import numpy as np \n",
    "from termcolor import colored\n",
    "from mn_model import mn_model\n",
    "from face_generator import BatchGenerator\n",
    "from keras_ssd_loss import SSDLoss\n",
    "from ssd_box_encode_decode_utils import SSDBoxEncoder, decode_y, decode_y2\n",
    "from keras import backend as K\n",
    "import scipy.misc as sm"
   ]
  },
  {
   "cell_type": "markdown",
   "metadata": {
    "colab_type": "text",
    "id": "UqyWOSGJRB18"
   },
   "source": [
    "## Set the parameters for the model\n",
    "\n",
    "#### We need to customize the model parameters according to our problem as given below.\n",
    "\n",
    "#### Set n_classes (no.of classes) = 2, as we are interested in only face detection. \n",
    "#### `Face` will be one class and everything else comes under other class (we can call it as `background`)\n",
    "\n",
    "#### Set class_names = [\"background\", \"face\"]"
   ]
  },
  {
   "cell_type": "code",
   "execution_count": 0,
   "metadata": {
    "colab": {},
    "colab_type": "code",
    "id": "bcoBM5wlfHgZ"
   },
   "outputs": [],
   "source": [
    "img_height =512\n",
    "img_width = 512\n",
    "img_channels = 3\n",
    "n_classes =2\n",
    "class_names = [\"background\",\"face\"]\n",
    "scales = [0.07, 0.15, 0.33, 0.51, 0.69, 0.87, 1.05]\n",
    "aspect_ratios = [[0.5, 1.0, 2.0],[1.0/3.0, 0.5, 1.0, 2.0, 3.0],[1.0/3.0, 0.5, 1.0, 2.0, 3.0],\n",
    "                 [1.0/3.0, 0.5, 1.0, 2.0, 3.0],\n",
    "                 [0.5, 1.0, 2.0],\n",
    "                 [0.5, 1.0, 2.0]]\n",
    "two_boxes_for_ar1 = True\n",
    "limit_boxes = True \n",
    "variances = [0.1, 0.1, 0.2, 0.2]\n",
    "coords = 'centroids'\n",
    "normalize_coords = True\n",
    "det_model_path = \"./\""
   ]
  },
  {
   "cell_type": "markdown",
   "metadata": {
    "colab_type": "text",
    "id": "z7vX1GJjTg0v"
   },
   "source": [
    "### Now, we have imported the model and its dependencies. The next thing is to import the dataset for the model to train on. For this, we are using the WIDER FACE dataset. \n",
    "\n",
    "#### To make the dataset available follow the steps given below.\n",
    "\n",
    "\n",
    "1. Create a folder in your google drive for this project. \n",
    "\n",
    "2. Download the train and test dataset files given in .zip format into your drive folder you created for the project in step-1.\n",
    "\n",
    "3. Set the project path variable according to the folders you created to use for this project in your google drive. \n",
    "\n",
    "      `project_path = \"/content/drive/My Drive/DLCP/\"`\n",
    "\n",
    "4. Now, as we mount the drive the images will be available to use for training and testing but in zip format.\n",
    "\n",
    "5. So, lets extract the images from the zipfiles by using the code given of zipfile module.\n",
    "\n",
    "\n",
    "\n",
    "\n",
    "\n"
   ]
  },
  {
   "cell_type": "code",
   "execution_count": 0,
   "metadata": {
    "colab": {},
    "colab_type": "code",
    "id": "T2du37JKdpAK"
   },
   "outputs": [],
   "source": [
    "from google.colab import drive"
   ]
  },
  {
   "cell_type": "code",
   "execution_count": 0,
   "metadata": {
    "colab": {
     "base_uri": "https://localhost:8080/",
     "height": 54
    },
    "colab_type": "code",
    "id": "mXRPqaDfdr1P",
    "outputId": "c025ad7d-7ed6-4ba0-8dd7-025470c4cdd6"
   },
   "outputs": [
    {
     "name": "stdout",
     "output_type": "stream",
     "text": [
      "Drive already mounted at /content/drive; to attempt to forcibly remount, call drive.mount(\"/content/drive\", force_remount=True).\n"
     ]
    }
   ],
   "source": [
    "drive.mount('/content/drive')"
   ]
  },
  {
   "cell_type": "code",
   "execution_count": 0,
   "metadata": {
    "colab": {},
    "colab_type": "code",
    "id": "KM1QVQ2pduPE"
   },
   "outputs": [],
   "source": [
    "project_path = \"/content/drive/My Drive/AIML/Residency_9/Project_1/\""
   ]
  },
  {
   "cell_type": "code",
   "execution_count": 0,
   "metadata": {
    "colab": {},
    "colab_type": "code",
    "id": "F-pOMEK8pCPS"
   },
   "outputs": [],
   "source": [
    "train_images_path = project_path + 'WIDER_train.zip'\n",
    "test_images_path = project_path + 'WIDER_val.zip'"
   ]
  },
  {
   "cell_type": "code",
   "execution_count": 0,
   "metadata": {
    "colab": {},
    "colab_type": "code",
    "id": "xwt3WTU8pbxl"
   },
   "outputs": [],
   "source": [
    "os.chdir('/content/drive/My Drive/AIML/Residency 9/Project_1/')"
   ]
  },
  {
   "cell_type": "code",
   "execution_count": 0,
   "metadata": {
    "colab": {},
    "colab_type": "code",
    "id": "5uIDTr5ApCR7"
   },
   "outputs": [],
   "source": [
    "import zipfile\n",
    "arch = zipfile.ZipFile(train_images_path, 'r')\n",
    "arch.extractall()"
   ]
  },
  {
   "cell_type": "code",
   "execution_count": 0,
   "metadata": {
    "colab": {},
    "colab_type": "code",
    "id": "BhqDPEEfpCUr"
   },
   "outputs": [],
   "source": [
    "arch = zipfile.ZipFile(test_images_path, 'r')\n",
    "arch.extractall()"
   ]
  },
  {
   "cell_type": "markdown",
   "metadata": {
    "colab_type": "text",
    "id": "-iCibT8AYiJ7"
   },
   "source": [
    "### Now, the images are available. The next thing we need is to get the labels for these images, so that we can use this information while training for detecting faces with the given model using transfer learning. \n",
    "\n",
    "#### Follow the below steps to get those labels available.\n",
    "\n",
    "\n",
    "Load the  '' `wider_train_small.npy`'' file given to check the information given about the dataset. In this file you can see the information about each image in the dataset in a list with following elemets:\n",
    "      \n",
    "\n",
    "        1.   Image filename (str)\n",
    "        2.   Image filename (str)\n",
    "        3.   Image size (list) [height, width]\n",
    "        4.   List of bounding box co-ordinates and Class label (list) [[a,b,c,d], Class label, ...]\n",
    "        \n",
    "        where,\n",
    "        a,b,c,d are the four co-ordinates of the bounding box\n",
    "        Class label is the position of object as mentioned in `class_names` list above."
   ]
  },
  {
   "cell_type": "code",
   "execution_count": 0,
   "metadata": {
    "colab": {
     "base_uri": "https://localhost:8080/",
     "height": 293
    },
    "colab_type": "code",
    "id": "fVYrz7VCq5Og",
    "outputId": "bffe654f-79c7-420c-e494-78a69ee14f6c"
   },
   "outputs": [
    {
     "name": "stdout",
     "output_type": "stream",
     "text": [
      "Collecting numpy==1.16.1\n",
      "\u001b[?25l  Downloading https://files.pythonhosted.org/packages/f5/bf/4981bcbee43934f0adb8f764a1e70ab0ee5a448f6505bd04a87a2fda2a8b/numpy-1.16.1-cp36-cp36m-manylinux1_x86_64.whl (17.3MB)\n",
      "\u001b[K     |████████████████████████████████| 17.3MB 4.9MB/s \n",
      "\u001b[31mERROR: datascience 0.10.6 has requirement folium==0.2.1, but you'll have folium 0.8.3 which is incompatible.\u001b[0m\n",
      "\u001b[31mERROR: albumentations 0.1.12 has requirement imgaug<0.2.7,>=0.2.5, but you'll have imgaug 0.2.9 which is incompatible.\u001b[0m\n",
      "\u001b[?25hInstalling collected packages: numpy\n",
      "  Found existing installation: numpy 1.16.3\n",
      "    Uninstalling numpy-1.16.3:\n",
      "      Successfully uninstalled numpy-1.16.3\n",
      "Successfully installed numpy-1.16.1\n"
     ]
    },
    {
     "data": {
      "application/vnd.colab-display-data+json": {
       "pip_warning": {
        "packages": [
         "numpy"
        ]
       }
      }
     },
     "metadata": {
      "tags": []
     },
     "output_type": "display_data"
    }
   ],
   "source": [
    "!pip install numpy==1.16.1"
   ]
  },
  {
   "cell_type": "code",
   "execution_count": 0,
   "metadata": {
    "colab": {},
    "colab_type": "code",
    "id": "nub3I0LPmlfk"
   },
   "outputs": [],
   "source": [
    "dt = np.load('./wider_train_small.npy').item()"
   ]
  },
  {
   "cell_type": "code",
   "execution_count": 0,
   "metadata": {
    "colab": {
     "base_uri": "https://localhost:8080/",
     "height": 71
    },
    "colab_type": "code",
    "id": "Q2Fd8RY3pCJS",
    "outputId": "070952d4-5b7e-44dd-a74d-3962bc068801"
   },
   "outputs": [
    {
     "name": "stdout",
     "output_type": "stream",
     "text": [
      "52--Photographers/52_Photographers_photographertakingphoto_52_582.jpg\n",
      "['WIDER_train/images/52--Photographers/52_Photographers_photographertakingphoto_52_582.jpg', 'WIDER_train/images/52--Photographers/52_Photographers_photographertakingphoto_52_582.jpg', [300, 300], [[21, 667, 9, 655], 1]]\n"
     ]
    }
   ],
   "source": [
    "for keys in dt:\n",
    "  print(keys)\n",
    "  print(dt[keys])\n",
    "  break"
   ]
  },
  {
   "cell_type": "markdown",
   "metadata": {
    "colab_type": "text",
    "id": "vlTpXziHZwws"
   },
   "source": [
    " As we can see from the above output all the information mentioned above is there for all the images."
   ]
  },
  {
   "cell_type": "markdown",
   "metadata": {
    "colab_type": "text",
    "id": "m2NBAZGqaec9"
   },
   "source": [
    "### Now, load the files `wider_trian.npy` and `wider_val.npy`"
   ]
  },
  {
   "cell_type": "code",
   "execution_count": 0,
   "metadata": {
    "colab": {},
    "colab_type": "code",
    "id": "_kfX49vXas4f"
   },
   "outputs": [],
   "source": [
    "train_data = 'wider_train_small.npy'\n",
    "test_data = 'wider_val_small.npy'"
   ]
  },
  {
   "cell_type": "markdown",
   "metadata": {
    "colab_type": "text",
    "id": "v2KdmbvGblC3"
   },
   "source": [
    "### Now, call the imported model with the given parameters and freeze all the layers in the model with names not having ''`detection`'' word as prefix.\n",
    "\n",
    "As we are not training the model from scratch, we are freezing all the above layers in the model having only last few layers while training to update their weights according to the problem in hand. This is called as **Transfer Learning**."
   ]
  },
  {
   "cell_type": "code",
   "execution_count": 0,
   "metadata": {
    "colab": {
     "base_uri": "https://localhost:8080/",
     "height": 122
    },
    "colab_type": "code",
    "id": "cHwplT2ggR-1",
    "outputId": "3e858052-0e75-4989-f501-c3b4dfd61f9f"
   },
   "outputs": [
    {
     "name": "stdout",
     "output_type": "stream",
     "text": [
      "====> Model Specific data\n",
      "====> Height, Width, Channels : 512 512 3\n",
      "WARNING:tensorflow:From /usr/local/lib/python3.6/dist-packages/tensorflow/python/framework/op_def_library.py:263: colocate_with (from tensorflow.python.framework.ops) is deprecated and will be removed in a future version.\n",
      "Instructions for updating:\n",
      "Colocations handled automatically by placer.\n"
     ]
    }
   ],
   "source": [
    "# build the keras model \n",
    "K.clear_session()\n",
    "model, model_layer, img_input, predictor_sizes = mn_model(image_size=(img_height, img_width, img_channels), \n",
    "                                                                      n_classes = n_classes,\n",
    "                                                                      min_scale = None, \n",
    "                                                                      max_scale = None, \n",
    "                                                                      scales = scales, \n",
    "                                                                      aspect_ratios_global = None, \n",
    "                                                                      aspect_ratios_per_layer = aspect_ratios, \n",
    "                                                                      two_boxes_for_ar1= two_boxes_for_ar1, \n",
    "                                                                      limit_boxes=limit_boxes, \n",
    "                                                                      variances= variances, \n",
    "                                                                      coords=coords, \n",
    "                                                                      normalize_coords=normalize_coords)"
   ]
  },
  {
   "cell_type": "markdown",
   "metadata": {
    "colab_type": "text",
    "id": "FfC4yNb_uCdT"
   },
   "source": [
    "#### Write code to freeze all the layers in the above model with names not having ''`detection`'' word as prefix."
   ]
  },
  {
   "cell_type": "code",
   "execution_count": 0,
   "metadata": {
    "colab": {},
    "colab_type": "code",
    "id": "snOulB0wt7_t"
   },
   "outputs": [],
   "source": [
    "for layer in model.layers:\n",
    "  if('detection' not in layer.name):\n",
    "    layer.trainable = False"
   ]
  },
  {
   "cell_type": "markdown",
   "metadata": {
    "colab_type": "text",
    "id": "n1IIGWM2c3x-"
   },
   "source": [
    "### After making the model ready for transfer learning, load the weights of the model given in file ''`mobilenet_1_0_224_tf.h5`''"
   ]
  },
  {
   "cell_type": "code",
   "execution_count": 0,
   "metadata": {
    "colab": {},
    "colab_type": "code",
    "id": "lmCmRr2Rc2Sv"
   },
   "outputs": [],
   "source": [
    "model.load_weights('/content/drive/My Drive/Face Detection/ssd_mobilenet_face_epoch_25_loss0.0916.h5')"
   ]
  },
  {
   "cell_type": "markdown",
   "metadata": {
    "colab_type": "text",
    "id": "73KNzDSCf6Rh"
   },
   "source": [
    "#### Using the functions given in the model, we are trying to divide the dataset into train and validation samples. Run the below code."
   ]
  },
  {
   "cell_type": "code",
   "execution_count": 0,
   "metadata": {
    "colab": {
     "base_uri": "https://localhost:8080/",
     "height": 221
    },
    "colab_type": "code",
    "id": "4_pZEU8TfBoR",
    "outputId": "96606d37-2a9e-4afb-81f6-3c5dee3927d9"
   },
   "outputs": [
    {
     "name": "stdout",
     "output_type": "stream",
     "text": [
      "==>TRAINING DATA\n",
      "==> Parsing XML files ...\n",
      "==>Parsing XML Finished.\n",
      "==>Generate training batches...\n",
      "==>Training batch generation complete\n",
      "==>Total number of training samples = 128\n",
      "==>VALIDATION\n",
      "==> Parsing XML files ...\n",
      "==>Parsing XML Finished.\n",
      "==>Generate training batches...\n",
      "==>Training batch generation complete\n",
      "==>Total number of validation samples = 60\n"
     ]
    }
   ],
   "source": [
    "batch_size = 32\n",
    "ssd_box_encoder = SSDBoxEncoder(img_height=img_height,\n",
    "                                img_width=img_width,\n",
    "                                n_classes=n_classes, \n",
    "                                predictor_sizes=predictor_sizes,\n",
    "                                min_scale=None,\n",
    "                                max_scale=None,\n",
    "                                scales=scales,\n",
    "                                aspect_ratios_global=None,\n",
    "                                aspect_ratios_per_layer=aspect_ratios,\n",
    "                                two_boxes_for_ar1=two_boxes_for_ar1,\n",
    "                                limit_boxes=limit_boxes,\n",
    "                                variances=variances,\n",
    "                                pos_iou_threshold=0.5,\n",
    "                                neg_iou_threshold=0.2,\n",
    "                                coords=coords,\n",
    "                                normalize_coords=normalize_coords)\n",
    "\n",
    "train_dataset = BatchGenerator(images_path=train_data,\n",
    "                include_classes='all', \n",
    "                box_output_format = ['class_id', 'xmin', 'xmax', 'ymin', 'ymax'])\n",
    "\n",
    "print (\"==>TRAINING DATA\")\n",
    "print (\"==> Parsing XML files ...\")\n",
    "\n",
    "train_dataset.parse_xml(\n",
    "                  annotations_path=train_data, \n",
    "                  image_set_path='None',\n",
    "                  image_set='None',\n",
    "                  classes = class_names, \n",
    "                  exclude_truncated=False,\n",
    "                  exclude_difficult=False,\n",
    "                  ret=False, \n",
    "                  debug = False)\n",
    "print(\"==>Parsing XML Finished.\")\n",
    "\n",
    "print (\"==>Generate training batches...\")\n",
    "train_generator = train_dataset.generate(\n",
    "                 batch_size=batch_size,\n",
    "                 train=True,\n",
    "                 ssd_box_encoder=ssd_box_encoder,\n",
    "                 equalize=True,\n",
    "                 brightness=(0.5,2,0.5),\n",
    "                 flip=0.5,\n",
    "                 translate=((0, 20), (0, 30), 0.5),\n",
    "                 scale=(0.75, 1.2, 0.5),\n",
    "                 crop=False,\n",
    "                 #random_crop = (img_height,img_width,1,3), \n",
    "                 random_crop=False,\n",
    "                 resize=(img_height, img_width),\n",
    "                 #resize=False,\n",
    "                 gray=False,\n",
    "                 limit_boxes=True,\n",
    "                 include_thresh=0.4,\n",
    "                 diagnostics=False)\n",
    "\n",
    "print (\"==>Training batch generation complete\")\n",
    "\n",
    "n_train_samples = train_dataset.get_n_samples()\n",
    "\n",
    "print (\"==>Total number of training samples = {}\".format(n_train_samples))\n",
    "\n",
    "# Now repeat above steps for validation data \n",
    "\n",
    "print (\"==>VALIDATION\")\n",
    "\n",
    "val_dataset = BatchGenerator(images_path=test_data, include_classes='all', \n",
    "                box_output_format = ['class_id', 'xmin', 'xmax', 'ymin', 'ymax'])\n",
    "\n",
    "print (\"==> Parsing XML files ...\")\n",
    "\n",
    "\n",
    "val_dataset.parse_xml(\n",
    "                  annotations_path=test_data,\n",
    "                  image_set_path='None',\n",
    "                  image_set='None',\n",
    "                  classes = class_names, \n",
    "                  exclude_truncated=False,\n",
    "                  exclude_difficult=False,\n",
    "                  ret=False, \n",
    "                  debug = False)\n",
    "\n",
    "\n",
    "print(\"==>Parsing XML Finished.\")\n",
    "\n",
    "\n",
    "print (\"==>Generate training batches...\")\n",
    "val_generator = val_dataset.generate(\n",
    "                 batch_size=batch_size,\n",
    "                 train=True,\n",
    "                 ssd_box_encoder=ssd_box_encoder,\n",
    "                 equalize=False,\n",
    "                 brightness=False,\n",
    "                 flip=False,\n",
    "                 translate=False,\n",
    "                 scale=False,\n",
    "                 crop=False,\n",
    "                 #random_crop = (img_height,img_width,1,3), \n",
    "                 random_crop=False, \n",
    "                 resize=(img_height, img_width), \n",
    "                 #resize=False, \n",
    "                 gray=False,\n",
    "                 limit_boxes=True,\n",
    "                 include_thresh=0.4,\n",
    "                 diagnostics=False)\n",
    "\n",
    "\n",
    "print (\"==>Training batch generation complete\")\n",
    "\n",
    "n_val_samples = val_dataset.get_n_samples()\n",
    "\n",
    "print (\"==>Total number of validation samples = {}\".format(n_val_samples))"
   ]
  },
  {
   "cell_type": "markdown",
   "metadata": {
    "colab_type": "text",
    "id": "4KtkdFTQhKlE"
   },
   "source": [
    "### Now, lets setup things for training by initilaizing required variables like learning rate, epochs, optimizer and loss function(SSDLoss) to compile the model"
   ]
  },
  {
   "cell_type": "code",
   "execution_count": 0,
   "metadata": {
    "colab": {
     "base_uri": "https://localhost:8080/",
     "height": 139
    },
    "colab_type": "code",
    "id": "g1-3OOPmgmxk",
    "outputId": "dd83b1c4-2c62-43d4-9504-20d536b22e3e"
   },
   "outputs": [
    {
     "name": "stdout",
     "output_type": "stream",
     "text": [
      "WARNING:tensorflow:From /content/drive/My Drive/AIML/Residency 9/Project 1/keras_ssd_loss.py:129: to_float (from tensorflow.python.ops.math_ops) is deprecated and will be removed in a future version.\n",
      "Instructions for updating:\n",
      "Use tf.cast instead.\n",
      "WARNING:tensorflow:From /content/drive/My Drive/AIML/Residency 9/Project 1/keras_ssd_loss.py:162: to_int32 (from tensorflow.python.ops.math_ops) is deprecated and will be removed in a future version.\n",
      "Instructions for updating:\n",
      "Use tf.cast instead.\n"
     ]
    }
   ],
   "source": [
    "# setting up training \n",
    "\n",
    "# batch_size and no.of epochs\n",
    "\n",
    "batch_size = 16\n",
    "num_epochs = 10\n",
    "\n",
    "#Learning rate\n",
    "base_lr = 0.002\n",
    "\n",
    "# Optimizer\n",
    "adam = Adam(lr=base_lr, beta_1=0.9, beta_2=0.999, epsilon=1e-6, decay = 0.0)\n",
    "\n",
    "# Loss\n",
    "ssd_loss = SSDLoss(neg_pos_ratio=2, n_neg_min=0, alpha=1.0, beta = 1.0)\n",
    "\n",
    "# Compile\n",
    "model.compile(optimizer=adam, loss=ssd_loss.compute_loss)"
   ]
  },
  {
   "cell_type": "markdown",
   "metadata": {
    "colab_type": "text",
    "id": "vt_RxSHJitPR"
   },
   "source": [
    "### Lets add early stopping and model checkpoint layers on validation loss with some patience values and using fit_generator function to train the model on data generated batch-by-batch by a Python generator, `train_generator` object as generator.\n",
    "\n",
    "\n",
    "We are using checkpoint to save the best model based on validation accuracy."
   ]
  },
  {
   "cell_type": "markdown",
   "metadata": {
    "colab_type": "text",
    "id": "ugJ68M7_vDqy"
   },
   "source": [
    "#### Write code for early_stopping and model_checkpoint layers. Using model.fit_generator train the model and save the best weight file."
   ]
  },
  {
   "cell_type": "code",
   "execution_count": 0,
   "metadata": {
    "colab": {},
    "colab_type": "code",
    "id": "EeO-T9jwi8be"
   },
   "outputs": [],
   "source": [
    "checkpoint = ModelCheckpoint(\"mobile_net_facedetect_best.h5\", monitor='val_acc', verbose=1, save_best_only=True, mode='auto')\n",
    "early = EarlyStopping(monitor='val_acc', min_delta=0, patience=5, verbose=1, mode='auto')\n"
   ]
  },
  {
   "cell_type": "code",
   "execution_count": 0,
   "metadata": {
    "colab": {
     "base_uri": "https://localhost:8080/",
     "height": 374
    },
    "colab_type": "code",
    "id": "ATodeeRCa2AX",
    "outputId": "32e5c79b-364f-4903-f014-220dea187963"
   },
   "outputs": [
    {
     "name": "stdout",
     "output_type": "stream",
     "text": [
      "Epoch 1/10\n",
      "8/8 [==============================] - 25s 3s/step - loss: 0.1954 - val_loss: 0.1839\n",
      "Epoch 2/10\n",
      "8/8 [==============================] - 13s 2s/step - loss: 0.1846 - val_loss: 0.2061\n",
      "Epoch 3/10\n",
      "8/8 [==============================] - 15s 2s/step - loss: 0.1912 - val_loss: 0.1820\n",
      "Epoch 4/10\n",
      "8/8 [==============================] - 16s 2s/step - loss: 0.1842 - val_loss: 0.2081\n",
      "Epoch 5/10\n",
      "8/8 [==============================] - 15s 2s/step - loss: 0.1945 - val_loss: 0.1862\n",
      "Epoch 6/10\n",
      "8/8 [==============================] - 15s 2s/step - loss: 0.1841 - val_loss: 0.2081\n",
      "Epoch 7/10\n",
      "8/8 [==============================] - 16s 2s/step - loss: 0.2002 - val_loss: 0.1942\n",
      "Epoch 8/10\n",
      "8/8 [==============================] - 15s 2s/step - loss: 0.1843 - val_loss: 0.1951\n",
      "Epoch 9/10\n",
      "8/8 [==============================] - 15s 2s/step - loss: 0.1931 - val_loss: 0.1967\n",
      "Epoch 10/10\n",
      "8/8 [==============================] - 15s 2s/step - loss: 0.1787 - val_loss: 0.1913\n"
     ]
    },
    {
     "data": {
      "text/plain": [
       "<keras.callbacks.History at 0x7f171ed9f160>"
      ]
     },
     "execution_count": 26,
     "metadata": {
      "tags": []
     },
     "output_type": "execute_result"
    }
   ],
   "source": [
    "model.fit_generator(\n",
    "\ttrain_generator,\n",
    "\tsteps_per_epoch=128 // batch_size,\n",
    "\tepochs=num_epochs,\n",
    "  validation_data=val_generator,\n",
    "\tvalidation_steps=60 // batch_size,\n",
    "  callbacks = [checkpoint, early])"
   ]
  },
  {
   "cell_type": "code",
   "execution_count": 0,
   "metadata": {
    "colab": {},
    "colab_type": "code",
    "id": "Crs8ql9UmtAs"
   },
   "outputs": [],
   "source": [
    "model.save('mobile_net_facedetect_best.h5')"
   ]
  },
  {
   "cell_type": "markdown",
   "metadata": {
    "colab_type": "text",
    "id": "U3FHrp77jdOx"
   },
   "source": [
    "### Load the best saved model from above step and check predictions for test data using test_generator object to generate batches."
   ]
  },
  {
   "cell_type": "markdown",
   "metadata": {
    "colab_type": "text",
    "id": "S7eP30cxvcEA"
   },
   "source": [
    "#### Write code in the below cell to load best saved model in the above step."
   ]
  },
  {
   "cell_type": "code",
   "execution_count": 0,
   "metadata": {
    "colab": {},
    "colab_type": "code",
    "id": "mgTyHe1Yd2E1"
   },
   "outputs": [],
   "source": [
    "from keras.models import load_model\n",
    "model = load_model('mobile_net_facedetect_best.h5')"
   ]
  },
  {
   "cell_type": "markdown",
   "metadata": {
    "colab_type": "text",
    "id": "6dD7q7pzqvnh"
   },
   "source": [
    "### Use the below function to plot the boundingbox in the test image to show the predictions."
   ]
  },
  {
   "cell_type": "code",
   "execution_count": 0,
   "metadata": {
    "colab": {},
    "colab_type": "code",
    "id": "h89fe5NGqwI9"
   },
   "outputs": [],
   "source": [
    "def save_bb(path, filename, results, prediction=True):\n",
    "\n",
    "  img = image.load_img(filename, target_size=(img_height, img_width))\n",
    "  img = image.img_to_array(img)\n",
    "\n",
    "  filename = filename.split(\"/\")[-1]\n",
    "\n",
    "  if(not prediction):\n",
    "    filename = filename[:-4] + \"_gt\" + \".jpg\"\n",
    "\n",
    "  #fig,currentAxis = plt.subplots(1)\n",
    "  currentAxis = plt.gca()\n",
    "\n",
    " # Get detections with confidence higher than 0.6.\n",
    "  colors = plt.cm.hsv(np.linspace(0, 1, 25)).tolist()\n",
    "  color_code = min(len(results), 16)\n",
    "  print (colored(\"total number of bbs: %d\" % len(results), \"yellow\"))\n",
    "  for result in results:\n",
    "    # Parse the outputs.\n",
    "\n",
    "    if(prediction):\n",
    "      det_label = result[0]\n",
    "      det_conf = result[1]\n",
    "      det_xmin = result[2]\n",
    "      det_xmax = result[3]\n",
    "      det_ymin = result[4]\n",
    "      det_ymax = result[5]\n",
    "    else :\n",
    "      det_label = result[0]\n",
    "      det_xmin = result[1]\n",
    "      det_xmax = result[2]\n",
    "      det_ymin = result[3]\n",
    "      det_ymax = result[4]\n",
    "\n",
    "    xmin = int(det_xmin)\n",
    "    ymin = int(det_ymin)\n",
    "    xmax = int(det_xmax)\n",
    "    ymax = int(det_ymax)\n",
    "\n",
    "    if(prediction):\n",
    "      score = det_conf\n",
    "    \n",
    "    plt.imshow(img / 255.)\n",
    "    \n",
    "    label = int(int(det_label))\n",
    "    label_name = class_names[label]\n",
    "    # print label_name \n",
    "    # print label\n",
    "\n",
    "    if(prediction):\n",
    "      display_txt = '{:0.2f}'.format(score)\n",
    "    else:\n",
    "      display_txt = '{}'.format(label_name)\n",
    "\n",
    "      \n",
    "    # print (xmin, ymin, ymin, ymax)\n",
    "    coords = (xmin, ymin), (xmax-xmin), (ymax-ymin)\n",
    "    color_code = color_code-1 \n",
    "    color = colors[color_code]\n",
    "    currentAxis.add_patch(plt.Rectangle(*coords, fill=False, edgecolor=color, linewidth=2))\n",
    "    currentAxis.text(xmin, ymin, display_txt, bbox={'facecolor':color, 'alpha':0.2})\n",
    "\n",
    "  # y\n",
    "  currentAxis.axes.get_yaxis().set_visible(False)\n",
    "  # x\n",
    "currentAxis.axes.get_xaxis().set_visible(False)\n",
    "plt.savefig(path + filename, bbox_inches='tight')\n",
    "print ('saved' , path + filename)\n",
    "#plt.clf()"
   ]
  },
  {
   "cell_type": "markdown",
   "metadata": {
    "colab_type": "text",
    "id": "RrMdNhMtwE3t"
   },
   "source": [
    "#### Run the below code to create a folder with name output_test and get the predictions for the test images using model.predict()"
   ]
  },
  {
   "cell_type": "code",
   "execution_count": 0,
   "metadata": {
    "colab": {},
    "colab_type": "code",
    "id": "1Sep0lG3vR0R"
   },
   "outputs": [],
   "source": [
    "!mkdir output_test"
   ]
  },
  {
   "cell_type": "code",
   "execution_count": 0,
   "metadata": {
    "colab": {
     "base_uri": "https://localhost:8080/",
     "height": 4131
    },
    "colab_type": "code",
    "id": "70s6RPuInpqo",
    "outputId": "d38d5508-bc05-47ee-d6e7-80e63d279427"
   },
   "outputs": [
    {
     "name": "stdout",
     "output_type": "stream",
     "text": [
      "\u001b[32mdone.\u001b[0m\n",
      "\u001b[33mnow predicting...\u001b[0m\n",
      "\u001b[33mtotal number of bbs: 1\u001b[0m\n",
      "saved ./output_test/57_Angler_peoplefishing_57_153.jpg\n",
      "\u001b[33mtotal number of bbs: 1\u001b[0m\n",
      "saved ./output_test/57_Angler_peoplefishing_57_153_gt.jpg\n",
      "\u001b[33mtotal number of bbs: 1\u001b[0m\n",
      "saved ./output_test/47_Matador_Bullfighter_matadorbullfighting_47_236.jpg\n",
      "\u001b[33mtotal number of bbs: 27\u001b[0m\n",
      "saved ./output_test/47_Matador_Bullfighter_matadorbullfighting_47_236_gt.jpg\n",
      "\u001b[33mtotal number of bbs: 1\u001b[0m\n",
      "saved ./output_test/41_Swimming_Swimmer_41_376.jpg\n",
      "\u001b[33mtotal number of bbs: 1\u001b[0m\n",
      "saved ./output_test/41_Swimming_Swimmer_41_376_gt.jpg\n",
      "\u001b[33mtotal number of bbs: 3\u001b[0m\n",
      "saved ./output_test/58_Hockey_icehockey_puck_58_285.jpg\n",
      "\u001b[33mtotal number of bbs: 7\u001b[0m\n",
      "saved ./output_test/58_Hockey_icehockey_puck_58_285_gt.jpg\n",
      "\u001b[33mtotal number of bbs: 4\u001b[0m\n",
      "saved ./output_test/22_Picnic_Picnic_22_10.jpg\n",
      "\u001b[33mtotal number of bbs: 4\u001b[0m\n",
      "saved ./output_test/22_Picnic_Picnic_22_10_gt.jpg\n",
      "\u001b[33mtotal number of bbs: 7\u001b[0m\n",
      "saved ./output_test/20_Family_Group_Family_Group_20_696.jpg\n",
      "\u001b[33mtotal number of bbs: 7\u001b[0m\n",
      "saved ./output_test/20_Family_Group_Family_Group_20_696_gt.jpg\n",
      "\u001b[33mtotal number of bbs: 1\u001b[0m\n",
      "saved ./output_test/49_Greeting_peoplegreeting_49_589.jpg\n",
      "\u001b[33mtotal number of bbs: 1\u001b[0m\n",
      "saved ./output_test/49_Greeting_peoplegreeting_49_589_gt.jpg\n",
      "\u001b[33mtotal number of bbs: 6\u001b[0m\n",
      "saved ./output_test/2_Demonstration_Protesters_2_646.jpg\n",
      "\u001b[33mtotal number of bbs: 14\u001b[0m\n",
      "saved ./output_test/2_Demonstration_Protesters_2_646_gt.jpg\n",
      "\u001b[33mtotal number of bbs: 2\u001b[0m\n",
      "saved ./output_test/12_Group_Team_Organized_Group_12_Group_Team_Organized_Group_12_21.jpg\n",
      "\u001b[33mtotal number of bbs: 5\u001b[0m\n",
      "saved ./output_test/12_Group_Team_Organized_Group_12_Group_Team_Organized_Group_12_21_gt.jpg\n",
      "\u001b[33mtotal number of bbs: 1\u001b[0m\n",
      "saved ./output_test/49_Greeting_peoplegreeting_49_124.jpg\n",
      "\u001b[33mtotal number of bbs: 1\u001b[0m\n",
      "saved ./output_test/49_Greeting_peoplegreeting_49_124_gt.jpg\n",
      "\u001b[33mtotal number of bbs: 1\u001b[0m\n",
      "saved ./output_test/40_Gymnastics_Gymnastics_40_762.jpg\n",
      "\u001b[33mtotal number of bbs: 1\u001b[0m\n",
      "saved ./output_test/40_Gymnastics_Gymnastics_40_762_gt.jpg\n",
      "\u001b[33mtotal number of bbs: 2\u001b[0m\n",
      "saved ./output_test/2_Demonstration_Demonstrators_2_188.jpg\n",
      "\u001b[33mtotal number of bbs: 12\u001b[0m\n",
      "saved ./output_test/2_Demonstration_Demonstrators_2_188_gt.jpg\n",
      "\u001b[33mtotal number of bbs: 3\u001b[0m\n",
      "saved ./output_test/28_Sports_Fan_Sports_Fan_28_590.jpg\n",
      "\u001b[33mtotal number of bbs: 9\u001b[0m\n",
      "saved ./output_test/28_Sports_Fan_Sports_Fan_28_590_gt.jpg\n",
      "\u001b[33mtotal number of bbs: 0\u001b[0m\n",
      "saved ./output_test/18_Concerts_Concerts_18_536.jpg\n",
      "\u001b[33mtotal number of bbs: 1\u001b[0m\n",
      "saved ./output_test/18_Concerts_Concerts_18_536_gt.jpg\n",
      "\u001b[33mtotal number of bbs: 5\u001b[0m\n",
      "saved ./output_test/12_Group_Team_Organized_Group_12_Group_Team_Organized_Group_12_83.jpg\n",
      "\u001b[33mtotal number of bbs: 16\u001b[0m\n",
      "saved ./output_test/12_Group_Team_Organized_Group_12_Group_Team_Organized_Group_12_83_gt.jpg\n",
      "\u001b[33mtotal number of bbs: 1\u001b[0m\n",
      "saved ./output_test/39_Ice_Skating_Ice_Skating_39_270.jpg\n",
      "\u001b[33mtotal number of bbs: 1\u001b[0m\n",
      "saved ./output_test/39_Ice_Skating_Ice_Skating_39_270_gt.jpg\n",
      "\u001b[33mtotal number of bbs: 0\u001b[0m\n",
      "saved ./output_test/41_Swimming_Swimmer_41_68.jpg\n",
      "\u001b[33mtotal number of bbs: 1\u001b[0m\n",
      "saved ./output_test/41_Swimming_Swimmer_41_68_gt.jpg\n",
      "\u001b[33mtotal number of bbs: 0\u001b[0m\n",
      "saved ./output_test/41_Swimming_Swimmer_41_68.jpg\n",
      "\u001b[33mtotal number of bbs: 1\u001b[0m\n",
      "saved ./output_test/41_Swimming_Swimmer_41_68_gt.jpg\n",
      "\u001b[33mtotal number of bbs: 1\u001b[0m\n",
      "saved ./output_test/13_Interview_Interview_Sequences_13_779.jpg\n",
      "\u001b[33mtotal number of bbs: 1\u001b[0m\n",
      "saved ./output_test/13_Interview_Interview_Sequences_13_779_gt.jpg\n",
      "\u001b[33mtotal number of bbs: 1\u001b[0m\n",
      "saved ./output_test/51_Dresses_wearingdress_51_113.jpg\n",
      "\u001b[33mtotal number of bbs: 1\u001b[0m\n",
      "saved ./output_test/51_Dresses_wearingdress_51_113_gt.jpg\n",
      "\u001b[33mtotal number of bbs: 1\u001b[0m\n",
      "saved ./output_test/47_Matador_Bullfighter_matadorbullfighting_47_236.jpg\n",
      "\u001b[33mtotal number of bbs: 27\u001b[0m\n",
      "saved ./output_test/47_Matador_Bullfighter_matadorbullfighting_47_236_gt.jpg\n",
      "\u001b[33mtotal number of bbs: 2\u001b[0m\n",
      "saved ./output_test/30_Surgeons_Surgeons_30_554.jpg\n",
      "\u001b[33mtotal number of bbs: 6\u001b[0m\n",
      "saved ./output_test/30_Surgeons_Surgeons_30_554_gt.jpg\n",
      "\u001b[33mtotal number of bbs: 3\u001b[0m\n",
      "saved ./output_test/58_Hockey_icehockey_puck_58_285.jpg\n",
      "\u001b[33mtotal number of bbs: 7\u001b[0m\n",
      "saved ./output_test/58_Hockey_icehockey_puck_58_285_gt.jpg\n",
      "\u001b[33mtotal number of bbs: 4\u001b[0m\n",
      "saved ./output_test/26_Soldier_Drilling_Soldiers_Drilling_26_393.jpg\n",
      "\u001b[33mtotal number of bbs: 5\u001b[0m\n",
      "saved ./output_test/26_Soldier_Drilling_Soldiers_Drilling_26_393_gt.jpg\n",
      "\u001b[33mtotal number of bbs: 2\u001b[0m\n",
      "saved ./output_test/22_Picnic_Picnic_22_561.jpg\n",
      "\u001b[33mtotal number of bbs: 2\u001b[0m\n",
      "saved ./output_test/22_Picnic_Picnic_22_561_gt.jpg\n",
      "\u001b[33mtotal number of bbs: 2\u001b[0m\n",
      "saved ./output_test/22_Picnic_Picnic_22_561.jpg\n",
      "\u001b[33mtotal number of bbs: 2\u001b[0m\n",
      "saved ./output_test/22_Picnic_Picnic_22_561_gt.jpg\n",
      "\u001b[33mtotal number of bbs: 0\u001b[0m\n",
      "saved ./output_test/41_Swimming_Swimmer_41_68.jpg\n",
      "\u001b[33mtotal number of bbs: 1\u001b[0m\n",
      "saved ./output_test/41_Swimming_Swimmer_41_68_gt.jpg\n",
      "\u001b[33mtotal number of bbs: 0\u001b[0m\n",
      "saved ./output_test/33_Running_Running_33_475.jpg\n",
      "\u001b[33mtotal number of bbs: 1\u001b[0m\n",
      "saved ./output_test/33_Running_Running_33_475_gt.jpg\n",
      "\u001b[33mtotal number of bbs: 1\u001b[0m\n",
      "saved ./output_test/51_Dresses_wearingdress_51_113.jpg\n",
      "\u001b[33mtotal number of bbs: 1\u001b[0m\n",
      "saved ./output_test/51_Dresses_wearingdress_51_113_gt.jpg\n",
      "\u001b[33mtotal number of bbs: 5\u001b[0m\n",
      "saved ./output_test/21_Festival_Festival_21_395.jpg\n",
      "\u001b[33mtotal number of bbs: 9\u001b[0m\n",
      "saved ./output_test/21_Festival_Festival_21_395_gt.jpg\n",
      "\u001b[33mtotal number of bbs: 1\u001b[0m\n",
      "saved ./output_test/39_Ice_Skating_Ice_Skating_39_270.jpg\n",
      "\u001b[33mtotal number of bbs: 1\u001b[0m\n",
      "saved ./output_test/39_Ice_Skating_Ice_Skating_39_270_gt.jpg\n",
      "\u001b[33mtotal number of bbs: 7\u001b[0m\n",
      "saved ./output_test/20_Family_Group_Family_Group_20_696.jpg\n",
      "\u001b[33mtotal number of bbs: 7\u001b[0m\n",
      "saved ./output_test/20_Family_Group_Family_Group_20_696_gt.jpg\n",
      "\u001b[33mtotal number of bbs: 4\u001b[0m\n",
      "saved ./output_test/26_Soldier_Drilling_Soldiers_Drilling_26_393.jpg\n",
      "\u001b[33mtotal number of bbs: 5\u001b[0m\n",
      "saved ./output_test/26_Soldier_Drilling_Soldiers_Drilling_26_393_gt.jpg\n",
      "\u001b[33mtotal number of bbs: 0\u001b[0m\n",
      "saved ./output_test/47_Matador_Bullfighter_matadorbullfighting_47_731.jpg\n",
      "\u001b[33mtotal number of bbs: 4\u001b[0m\n",
      "saved ./output_test/47_Matador_Bullfighter_matadorbullfighting_47_731_gt.jpg\n",
      "\u001b[33mtotal number of bbs: 6\u001b[0m\n",
      "saved ./output_test/2_Demonstration_Protesters_2_646.jpg\n",
      "\u001b[33mtotal number of bbs: 14\u001b[0m\n",
      "saved ./output_test/2_Demonstration_Protesters_2_646_gt.jpg\n",
      "\u001b[33mtotal number of bbs: 1\u001b[0m\n",
      "saved ./output_test/33_Running_Running_33_209.jpg\n",
      "\u001b[33mtotal number of bbs: 1\u001b[0m\n",
      "saved ./output_test/33_Running_Running_33_209_gt.jpg\n",
      "\u001b[33mtotal number of bbs: 2\u001b[0m\n",
      "saved ./output_test/12_Group_Team_Organized_Group_12_Group_Team_Organized_Group_12_21.jpg\n",
      "\u001b[33mtotal number of bbs: 5\u001b[0m\n",
      "saved ./output_test/12_Group_Team_Organized_Group_12_Group_Team_Organized_Group_12_21_gt.jpg\n",
      "\u001b[33mtotal number of bbs: 1\u001b[0m\n",
      "saved ./output_test/51_Dresses_wearingdress_51_113.jpg\n",
      "\u001b[33mtotal number of bbs: 1\u001b[0m\n",
      "saved ./output_test/51_Dresses_wearingdress_51_113_gt.jpg\n",
      "\u001b[33mtotal number of bbs: 1\u001b[0m\n",
      "saved ./output_test/49_Greeting_peoplegreeting_49_589.jpg\n",
      "\u001b[33mtotal number of bbs: 1\u001b[0m\n",
      "saved ./output_test/49_Greeting_peoplegreeting_49_589_gt.jpg\n",
      "\u001b[33mtotal number of bbs: 0\u001b[0m\n",
      "saved ./output_test/12_Group_Team_Organized_Group_12_Group_Team_Organized_Group_12_101.jpg\n",
      "\u001b[33mtotal number of bbs: 10\u001b[0m\n",
      "saved ./output_test/12_Group_Team_Organized_Group_12_Group_Team_Organized_Group_12_101_gt.jpg\n",
      "\u001b[33mtotal number of bbs: 5\u001b[0m\n",
      "saved ./output_test/12_Group_Large_Group_12_Group_Large_Group_12_354.jpg\n",
      "\u001b[33mtotal number of bbs: 9\u001b[0m\n",
      "saved ./output_test/12_Group_Large_Group_12_Group_Large_Group_12_354_gt.jpg\n",
      "\u001b[33mtotal number of bbs: 5\u001b[0m\n",
      "saved ./output_test/12_Group_Large_Group_12_Group_Large_Group_12_354.jpg\n",
      "\u001b[33mtotal number of bbs: 9\u001b[0m\n",
      "saved ./output_test/12_Group_Large_Group_12_Group_Large_Group_12_354_gt.jpg\n",
      "\u001b[33mtotal number of bbs: 0\u001b[0m\n",
      "saved ./output_test/4_Dancing_Dancing_4_97.jpg\n",
      "\u001b[33mtotal number of bbs: 5\u001b[0m\n",
      "saved ./output_test/4_Dancing_Dancing_4_97_gt.jpg\n",
      "\u001b[33mtotal number of bbs: 5\u001b[0m\n",
      "saved ./output_test/12_Group_Team_Organized_Group_12_Group_Team_Organized_Group_12_83.jpg\n",
      "\u001b[33mtotal number of bbs: 16\u001b[0m\n",
      "saved ./output_test/12_Group_Team_Organized_Group_12_Group_Team_Organized_Group_12_83_gt.jpg\n",
      "\u001b[33mtotal number of bbs: 0\u001b[0m\n",
      "saved ./output_test/41_Swimming_Swimmer_41_68.jpg\n",
      "\u001b[33mtotal number of bbs: 1\u001b[0m\n",
      "saved ./output_test/41_Swimming_Swimmer_41_68_gt.jpg\n",
      "\u001b[33mtotal number of bbs: 5\u001b[0m\n",
      "saved ./output_test/38_Tennis_Tennis_38_501.jpg\n",
      "\u001b[33mtotal number of bbs: 4\u001b[0m\n",
      "saved ./output_test/38_Tennis_Tennis_38_501_gt.jpg\n",
      "\u001b[33mtotal number of bbs: 0\u001b[0m\n",
      "saved ./output_test/18_Concerts_Concerts_18_536.jpg\n",
      "\u001b[33mtotal number of bbs: 1\u001b[0m\n",
      "saved ./output_test/18_Concerts_Concerts_18_536_gt.jpg\n",
      "\u001b[33mtotal number of bbs: 2\u001b[0m\n",
      "saved ./output_test/22_Picnic_Picnic_22_561.jpg\n",
      "\u001b[33mtotal number of bbs: 2\u001b[0m\n",
      "saved ./output_test/22_Picnic_Picnic_22_561_gt.jpg\n",
      "\u001b[33mtotal number of bbs: 6\u001b[0m\n",
      "saved ./output_test/2_Demonstration_Protesters_2_646.jpg\n",
      "\u001b[33mtotal number of bbs: 14\u001b[0m\n",
      "saved ./output_test/2_Demonstration_Protesters_2_646_gt.jpg\n",
      "\u001b[33mtotal number of bbs: 6\u001b[0m\n",
      "saved ./output_test/35_Basketball_basketballgame_ball_35_998.jpg\n",
      "\u001b[33mtotal number of bbs: 26\u001b[0m\n",
      "saved ./output_test/35_Basketball_basketballgame_ball_35_998_gt.jpg\n",
      "\u001b[33mtotal number of bbs: 2\u001b[0m\n",
      "saved ./output_test/28_Sports_Fan_Sports_Fan_28_86.jpg\n",
      "\u001b[33mtotal number of bbs: 1\u001b[0m\n",
      "saved ./output_test/28_Sports_Fan_Sports_Fan_28_86_gt.jpg\n",
      "\u001b[33mtotal number of bbs: 1\u001b[0m\n",
      "saved ./output_test/49_Greeting_peoplegreeting_49_124.jpg\n",
      "\u001b[33mtotal number of bbs: 1\u001b[0m\n",
      "saved ./output_test/49_Greeting_peoplegreeting_49_124_gt.jpg\n",
      "\u001b[33mtotal number of bbs: 2\u001b[0m\n",
      "saved ./output_test/2_Demonstration_Demonstrators_2_188.jpg\n",
      "\u001b[33mtotal number of bbs: 12\u001b[0m\n",
      "saved ./output_test/2_Demonstration_Demonstrators_2_188_gt.jpg\n",
      "\u001b[33mtotal number of bbs: 3\u001b[0m\n",
      "saved ./output_test/35_Basketball_playingbasketball_35_417.jpg\n",
      "\u001b[33mtotal number of bbs: 16\u001b[0m\n",
      "saved ./output_test/35_Basketball_playingbasketball_35_417_gt.jpg\n",
      "\u001b[33mtotal number of bbs: 0\u001b[0m\n",
      "saved ./output_test/18_Concerts_Concerts_18_536.jpg\n",
      "\u001b[33mtotal number of bbs: 1\u001b[0m\n",
      "saved ./output_test/18_Concerts_Concerts_18_536_gt.jpg\n",
      "\u001b[33mtotal number of bbs: 4\u001b[0m\n",
      "saved ./output_test/26_Soldier_Drilling_Soldiers_Drilling_26_393.jpg\n",
      "\u001b[33mtotal number of bbs: 5\u001b[0m\n",
      "saved ./output_test/26_Soldier_Drilling_Soldiers_Drilling_26_393_gt.jpg\n",
      "\u001b[33mtotal number of bbs: 2\u001b[0m\n",
      "saved ./output_test/12_Group_Team_Organized_Group_12_Group_Team_Organized_Group_12_21.jpg\n",
      "\u001b[33mtotal number of bbs: 5\u001b[0m\n",
      "saved ./output_test/12_Group_Team_Organized_Group_12_Group_Team_Organized_Group_12_21_gt.jpg\n",
      "\u001b[33mtotal number of bbs: 5\u001b[0m\n",
      "saved ./output_test/12_Group_Team_Organized_Group_12_Group_Team_Organized_Group_12_83.jpg\n",
      "\u001b[33mtotal number of bbs: 16\u001b[0m\n",
      "saved ./output_test/12_Group_Team_Organized_Group_12_Group_Team_Organized_Group_12_83_gt.jpg\n",
      "\u001b[33mtotal number of bbs: 3\u001b[0m\n",
      "saved ./output_test/28_Sports_Fan_Sports_Fan_28_590.jpg\n",
      "\u001b[33mtotal number of bbs: 9\u001b[0m\n",
      "saved ./output_test/28_Sports_Fan_Sports_Fan_28_590_gt.jpg\n",
      "\u001b[33mtotal number of bbs: 2\u001b[0m\n",
      "saved ./output_test/45_Balloonist_Balloonist_45_225.jpg\n",
      "\u001b[33mtotal number of bbs: 3\u001b[0m\n",
      "saved ./output_test/45_Balloonist_Balloonist_45_225_gt.jpg\n"
     ]
    }
   ],
   "source": [
    "from keras.preprocessing import image\n",
    "from matplotlib import pyplot as plt\n",
    "test_size = 60\n",
    "test_generator = val_dataset.generate(\n",
    "                 batch_size=test_size,\n",
    "                 train=False,\n",
    "                 ssd_box_encoder=ssd_box_encoder,\n",
    "                 equalize=False,\n",
    "                 brightness=False,\n",
    "                 flip=False,\n",
    "                 translate=False,\n",
    "                 scale=False,\n",
    "                 crop=False,\n",
    "                 #random_crop = (img_height,img_width,1,3), \n",
    "                 random_crop=False, \n",
    "                 resize=(img_height, img_width), \n",
    "                 #resize=False,\n",
    "                 gray=False,\n",
    "                 limit_boxes=True,\n",
    "                 include_thresh=0.4,\n",
    "                 diagnostics=False)\n",
    "\n",
    "print (colored(\"done.\", \"green\"))\n",
    "print (colored(\"now predicting...\", \"yellow\"))\n",
    "_CONF = 0.60 \n",
    "_IOU = 0.15\n",
    "\n",
    "for i in range(test_size):\n",
    "    X, y, filenames = next(test_generator)y_pred = model.predict(X)y_pred_decoded = decode_y2(y_pred,\n",
    "                             confidence_thresh=_CONF,\n",
    "                            iou_threshold=_IOU,\n",
    "                            top_k='all',\n",
    "                            input_coords=coords,\n",
    "                            normalize_coords=normalize_coords,\n",
    "                            img_height=img_height,\n",
    "                            img_width=img_width)\n",
    "    np.set_printoptions(suppress=True)\n",
    "    save_bb(\"./output_test/\", filenames[i], y_pred_decoded[i])\n",
    "    save_bb(\"./output_test/\", filenames[i], y[i], prediction=False)\n"
   ]
  },
  {
   "cell_type": "markdown",
   "metadata": {
    "colab_type": "text",
    "id": "qLKgtPCJwena"
   },
   "source": [
    "In the above step all the test images along with predictions are stored in output_test folder in this notebook environment. You can check the folder in Files section of the menu to left-side of screen in colab.\n",
    "\n",
    "Each test image is used for predictions and is stored as 2 files.\n",
    "\n",
    "one file is the original ground truth with <filename_gt.jpg>\n",
    "second file is the prediction of the model on the image. with <filename.jpg>"
   ]
  },
  {
   "cell_type": "markdown",
   "metadata": {
    "colab_type": "text",
    "id": "TFzb3Vj9kDGH"
   },
   "source": [
    "### Visualize a test image to check predictions\n",
    "\n",
    "\n",
    "#### Write code to show images: Using cv2.imshow() or matplotlib show any 3 test images and their predictions."
   ]
  },
  {
   "cell_type": "code",
   "execution_count": 0,
   "metadata": {
    "colab": {},
    "colab_type": "code",
    "id": "wXjEKwSFyoWm"
   },
   "outputs": [],
   "source": [
    "x_test=[]\n",
    "os.chdir('/content/drive/My Drive/AIML/Residency 9/Project 1/output_test')\n",
    "import cv2\n",
    "for i in os.listdir():\n",
    "    dmy = cv2.imread(i)"
   ]
  }
 ],
 "metadata": {
  "accelerator": "GPU",
  "colab": {
   "collapsed_sections": [],
   "name": "FACE_DETECTION_Questions.ipynb",
   "provenance": [],
   "version": "0.3.2"
  },
  "kernelspec": {
   "display_name": "Python 3",
   "language": "python",
   "name": "python3"
  },
  "language_info": {
   "codemirror_mode": {
    "name": "ipython",
    "version": 3
   },
   "file_extension": ".py",
   "mimetype": "text/x-python",
   "name": "python",
   "nbconvert_exporter": "python",
   "pygments_lexer": "ipython3",
   "version": "3.6.5"
  }
 },
 "nbformat": 4,
 "nbformat_minor": 1
}
