{
 "cells": [
  {
   "cell_type": "code",
   "execution_count": 1,
   "metadata": {
    "colab": {},
    "colab_type": "code",
    "id": "v_1AzUGqAhlt"
   },
   "outputs": [
    {
     "name": "stderr",
     "output_type": "stream",
     "text": [
      "/anaconda3/lib/python3.6/site-packages/h5py/__init__.py:36: FutureWarning: Conversion of the second argument of issubdtype from `float` to `np.floating` is deprecated. In future, it will be treated as `np.float64 == np.dtype(float).type`.\n",
      "  from ._conv import register_converters as _register_converters\n",
      "Using TensorFlow backend.\n"
     ]
    }
   ],
   "source": [
    "from __future__ import absolute_import, division, print_function\n",
    "import numpy as np\n",
    "import keras\n",
    "from keras.datasets import cifar10, mnist\n",
    "from keras.models import Sequential# sequential is one type of model; there are graph models as well\n",
    "from keras.layers import Dense, Activation, Dropout, Flatten, Reshape # Dense is fully connected layer\n",
    "from keras.layers import Convolution2D, MaxPooling2D #\n",
    "from keras.utils import np_utils\n",
    "import pickle # serialization fancy word for storing on disk\n",
    "from matplotlib import pyplot as plt\n",
    "import seaborn as sns\n",
    "plt.rcParams['figure.figsize'] = (15, 8)"
   ]
  },
  {
   "cell_type": "code",
   "execution_count": 4,
   "metadata": {
    "colab": {
     "base_uri": "https://localhost:8080/",
     "height": 35
    },
    "colab_type": "code",
    "executionInfo": {
     "elapsed": 1017,
     "status": "ok",
     "timestamp": 1552662243259,
     "user": {
      "displayName": "sairam janakiraman",
      "photoUrl": "",
      "userId": "11677302178638953515"
     },
     "user_tz": -330
    },
    "id": "eZBoShQnAvA0",
    "outputId": "427b855a-71c6-4d7b-d9bd-0f72b9aeec9d"
   },
   "outputs": [
    {
     "ename": "ModuleNotFoundError",
     "evalue": "No module named 'google.colab'",
     "output_type": "error",
     "traceback": [
      "\u001b[0;31m---------------------------------------------------------------------------\u001b[0m",
      "\u001b[0;31mModuleNotFoundError\u001b[0m                       Traceback (most recent call last)",
      "\u001b[0;32m<ipython-input-4-6c21181b7660>\u001b[0m in \u001b[0;36m<module>\u001b[0;34m()\u001b[0m\n\u001b[0;32m----> 1\u001b[0;31m \u001b[0;32mfrom\u001b[0m \u001b[0mgoogle\u001b[0m\u001b[0;34m.\u001b[0m\u001b[0mcolab\u001b[0m \u001b[0;32mimport\u001b[0m \u001b[0mdrive\u001b[0m\u001b[0;34m\u001b[0m\u001b[0m\n\u001b[0m\u001b[1;32m      2\u001b[0m \u001b[0mdrive\u001b[0m\u001b[0;34m.\u001b[0m\u001b[0mmount\u001b[0m\u001b[0;34m(\u001b[0m\u001b[0;34m'/drive'\u001b[0m\u001b[0;34m)\u001b[0m\u001b[0;34m\u001b[0m\u001b[0m\n",
      "\u001b[0;31mModuleNotFoundError\u001b[0m: No module named 'google.colab'"
     ]
    }
   ],
   "source": [
    "from google.colab import drive\n",
    "drive.mount('/drive')"
   ]
  },
  {
   "cell_type": "code",
   "execution_count": null,
   "metadata": {
    "colab": {
     "base_uri": "https://localhost:8080/",
     "height": 90
    },
    "colab_type": "code",
    "executionInfo": {
     "elapsed": 3236,
     "status": "ok",
     "timestamp": 1552662247701,
     "user": {
      "displayName": "sairam janakiraman",
      "photoUrl": "",
      "userId": "11677302178638953515"
     },
     "user_tz": -330
    },
    "id": "OKjaUnohA1lk",
    "outputId": "8d52c0ce-c9a3-450d-bd7f-a1795a33c1b4"
   },
   "outputs": [],
   "source": [
    "!ls \"/drive/My Drive/Colab Notebooks/train_dataset\""
   ]
  },
  {
   "cell_type": "code",
   "execution_count": 3,
   "metadata": {
    "colab": {},
    "colab_type": "code",
    "id": "j6DBQglNiFGP"
   },
   "outputs": [
    {
     "ename": "FileNotFoundError",
     "evalue": "[Errno 2] No such file or directory: '/drive/My Drive/Colab Notebooks/train_dataset'",
     "output_type": "error",
     "traceback": [
      "\u001b[0;31m---------------------------------------------------------------------------\u001b[0m",
      "\u001b[0;31mFileNotFoundError\u001b[0m                         Traceback (most recent call last)",
      "\u001b[0;32m<ipython-input-3-61452338989c>\u001b[0m in \u001b[0;36m<module>\u001b[0;34m()\u001b[0m\n\u001b[1;32m      1\u001b[0m \u001b[0;32mimport\u001b[0m \u001b[0mos\u001b[0m\u001b[0;34m\u001b[0m\u001b[0m\n\u001b[0;32m----> 2\u001b[0;31m \u001b[0mos\u001b[0m\u001b[0;34m.\u001b[0m\u001b[0mchdir\u001b[0m\u001b[0;34m(\u001b[0m\u001b[0;34m'/drive/My Drive/Colab Notebooks/train_dataset'\u001b[0m\u001b[0;34m)\u001b[0m\u001b[0;34m\u001b[0m\u001b[0m\n\u001b[0m",
      "\u001b[0;31mFileNotFoundError\u001b[0m: [Errno 2] No such file or directory: '/drive/My Drive/Colab Notebooks/train_dataset'"
     ]
    }
   ],
   "source": [
    "import os\n",
    "os.chdir('/drive/My Drive/Colab Notebooks/train_dataset')"
   ]
  },
  {
   "cell_type": "code",
   "execution_count": null,
   "metadata": {
    "colab": {
     "base_uri": "https://localhost:8080/",
     "height": 235
    },
    "colab_type": "code",
    "executionInfo": {
     "elapsed": 1770,
     "status": "ok",
     "timestamp": 1552662247732,
     "user": {
      "displayName": "sairam janakiraman",
      "photoUrl": "",
      "userId": "11677302178638953515"
     },
     "user_tz": -330
    },
    "id": "XlCpDWQvirRR",
    "outputId": "fe7c6cfa-99bf-4c8b-d7b1-015ad0e5e472"
   },
   "outputs": [],
   "source": [
    "os.listdir()"
   ]
  },
  {
   "cell_type": "code",
   "execution_count": null,
   "metadata": {
    "colab": {
     "base_uri": "https://localhost:8080/",
     "height": 235
    },
    "colab_type": "code",
    "executionInfo": {
     "elapsed": 55532,
     "status": "ok",
     "timestamp": 1552662304643,
     "user": {
      "displayName": "sairam janakiraman",
      "photoUrl": "",
      "userId": "11677302178638953515"
     },
     "user_tz": -330
    },
    "id": "YD9DNNAAsb0I",
    "outputId": "d9b59235-f10f-4cc6-dcf7-19fd848cfb2d"
   },
   "outputs": [],
   "source": [
    "x_train = []\n",
    "y_train = []\n",
    "import cv2\n",
    "for i in os.listdir():\n",
    "    print(i)\n",
    "    if (os.path.isdir(i)):\n",
    "            for j in os.listdir(i):\n",
    "                try:\n",
    "                    dummy = cv2.imread('/drive/My Drive/Colab Notebooks/train_dataset/' + i + \"/\" + j)\n",
    "                    dummy = cv2.resize(dummy,(128,128))\n",
    "                    x_train.append(dummy)\n",
    "                    y_train.append(i)\n",
    "                except Exception as e:\n",
    "                    print(e)\n"
   ]
  },
  {
   "cell_type": "code",
   "execution_count": null,
   "metadata": {
    "colab": {
     "base_uri": "https://localhost:8080/",
     "height": 35
    },
    "colab_type": "code",
    "executionInfo": {
     "elapsed": 55102,
     "status": "ok",
     "timestamp": 1552662304645,
     "user": {
      "displayName": "sairam janakiraman",
      "photoUrl": "",
      "userId": "11677302178638953515"
     },
     "user_tz": -330
    },
    "id": "TBLWct7istLv",
    "outputId": "a21fd765-cba6-48f7-d85e-9f4f228ded05"
   },
   "outputs": [],
   "source": [
    "x_train[0].shape"
   ]
  },
  {
   "cell_type": "code",
   "execution_count": null,
   "metadata": {
    "colab": {},
    "colab_type": "code",
    "id": "BMQlPJ-qysyp"
   },
   "outputs": [],
   "source": [
    "import pandas as pd\n",
    "dummyvar = pd.get_dummies(y_train)"
   ]
  },
  {
   "cell_type": "code",
   "execution_count": null,
   "metadata": {
    "colab": {},
    "colab_type": "code",
    "id": "TZBLqz5vywZu"
   },
   "outputs": [],
   "source": [
    "encoded_labels = dummyvar\n",
    "y_train = dummyvar"
   ]
  },
  {
   "cell_type": "code",
   "execution_count": null,
   "metadata": {
    "colab": {},
    "colab_type": "code",
    "id": "Cvr5eOWu_iNC"
   },
   "outputs": [],
   "source": [
    "import numpy as np\n",
    "y_train = np.array(y_train)\n",
    "x_train = np.array(x_train)\n",
    "x_train[0].shape"
   ]
  },
  {
   "cell_type": "code",
   "execution_count": null,
   "metadata": {
    "colab": {
     "base_uri": "https://localhost:8080/",
     "height": 54
    },
    "colab_type": "code",
    "executionInfo": {
     "elapsed": 52900,
     "status": "ok",
     "timestamp": 1552662305006,
     "user": {
      "displayName": "sairam janakiraman",
      "photoUrl": "",
      "userId": "11677302178638953515"
     },
     "user_tz": -330
    },
    "id": "U6OqAYoEB5mu",
    "outputId": "f40c41bf-d05f-443c-b6d8-a0a40f0bc1cc"
   },
   "outputs": [],
   "source": [
    "from sklearn.model_selection import train_test_split\n",
    "x_trainnew, x_val, y_trainnew, y_val = train_test_split(x_train, y_train, test_size=0.2, random_state=2)\n",
    "print (len(x_trainnew))\n",
    "print (len(x_val))"
   ]
  },
  {
   "cell_type": "code",
   "execution_count": null,
   "metadata": {
    "colab": {
     "base_uri": "https://localhost:8080/",
     "height": 35
    },
    "colab_type": "code",
    "executionInfo": {
     "elapsed": 1083,
     "status": "ok",
     "timestamp": 1552662704475,
     "user": {
      "displayName": "sairam janakiraman",
      "photoUrl": "",
      "userId": "11677302178638953515"
     },
     "user_tz": -330
    },
    "id": "Bur6LUaHCJGx",
    "outputId": "752c051e-28be-4c1f-c4e1-73450142bbd3"
   },
   "outputs": [],
   "source": [
    "x_trainnew[0].shape"
   ]
  },
  {
   "cell_type": "code",
   "execution_count": null,
   "metadata": {
    "colab": {},
    "colab_type": "code",
    "id": "CRjlZxSPM5zl"
   },
   "outputs": [],
   "source": [
    "x_train2 = x_trainnew.reshape(x_trainnew.shape[0],128,128,3)"
   ]
  },
  {
   "cell_type": "code",
   "execution_count": null,
   "metadata": {
    "colab": {},
    "colab_type": "code",
    "id": "TLvrDAq0M83X"
   },
   "outputs": [],
   "source": [
    "x_val = x_val.reshape(x_val.shape[0],128,128,3)"
   ]
  },
  {
   "cell_type": "code",
   "execution_count": null,
   "metadata": {
    "colab": {
     "base_uri": "https://localhost:8080/",
     "height": 54
    },
    "colab_type": "code",
    "executionInfo": {
     "elapsed": 1014,
     "status": "ok",
     "timestamp": 1552662718185,
     "user": {
      "displayName": "sairam janakiraman",
      "photoUrl": "",
      "userId": "11677302178638953515"
     },
     "user_tz": -330
    },
    "id": "9sg0Z-1UNAB0",
    "outputId": "5bb0c9a6-173b-4952-9bb7-1fd7aebf80e8"
   },
   "outputs": [],
   "source": [
    "print (x_trainnew.shape)\n",
    "print (x_val.shape)\n",
    "#print(y_trainnew.shape)\n",
    "print(y_val.shape)"
   ]
  },
  {
   "cell_type": "code",
   "execution_count": null,
   "metadata": {
    "colab": {},
    "colab_type": "code",
    "id": "mnj0RPM7NMD8"
   },
   "outputs": [],
   "source": [
    "from keras.models import Sequential\n",
    "from keras.layers import Convolution2D, Dropout, Dense\n",
    "from keras.layers import BatchNormalization\n",
    "from keras.layers import MaxPooling2D\n",
    "from keras.layers import Flatten\n",
    "from keras.optimizers import adam"
   ]
  },
  {
   "cell_type": "code",
   "execution_count": null,
   "metadata": {
    "colab": {
     "base_uri": "https://localhost:8080/",
     "height": 92
    },
    "colab_type": "code",
    "executionInfo": {
     "elapsed": 1493,
     "status": "ok",
     "timestamp": 1552662722168,
     "user": {
      "displayName": "sairam janakiraman",
      "photoUrl": "",
      "userId": "11677302178638953515"
     },
     "user_tz": -330
    },
    "id": "9yJjKpXHNSbR",
    "outputId": "df081017-fd27-40d4-f8cb-3a30c4e388a6"
   },
   "outputs": [],
   "source": [
    "modelseq = Sequential()\n",
    "modelseq.add(BatchNormalization(input_shape = (128,128,3)))\n",
    "modelseq.add(Convolution2D(32, (3,3), activation ='relu', input_shape = (128, 128, 3))) \n",
    "modelseq.add(MaxPooling2D(pool_size=2))\n",
    "\n",
    "modelseq.add(Convolution2D(filters=64, kernel_size=4, padding='same', activation='relu'))\n",
    "modelseq.add(MaxPooling2D(pool_size=2))\n",
    "\n",
    "modelseq.add(Convolution2D(filters=128, kernel_size=3, padding='same', activation='relu'))\n",
    "modelseq.add(MaxPooling2D(pool_size=2))\n",
    "\n",
    "modelseq.add(Convolution2D(filters=128, kernel_size=2, padding='same', activation='relu'))\n",
    "modelseq.add(MaxPooling2D(pool_size=2))\n",
    "modelseq.add(Flatten()) \n",
    "\n",
    "# fully connected layer\n",
    "modelseq.add(Dense(units=128,activation = 'relu'))\n",
    "modelseq.add(Dense(units = 64, activation = 'relu'))\n",
    "#model.add(Dropout(0.3))\n",
    "modelseq.add(Dense(units = 32, activation = 'relu'))\n",
    "modelseq.add(Dense(units = 12, activation = 'softmax')) "
   ]
  },
  {
   "cell_type": "code",
   "execution_count": null,
   "metadata": {
    "colab": {},
    "colab_type": "code",
    "id": "mMUMnceQ8Tt6"
   },
   "outputs": [],
   "source": [
    "optimizer = adam(lr=0.001)\n",
    "modelseq.compile(optimizer='adam', loss = 'categorical_crossentropy',metrics = ['accuracy'])"
   ]
  },
  {
   "cell_type": "code",
   "execution_count": null,
   "metadata": {
    "colab": {
     "base_uri": "https://localhost:8080/",
     "height": 654
    },
    "colab_type": "code",
    "executionInfo": {
     "elapsed": 525,
     "status": "ok",
     "timestamp": 1552662722686,
     "user": {
      "displayName": "sairam janakiraman",
      "photoUrl": "",
      "userId": "11677302178638953515"
     },
     "user_tz": -330
    },
    "id": "ru9Eor-o8eCI",
    "outputId": "7e80ad0e-d334-45d1-ef91-f5b37f48302d"
   },
   "outputs": [],
   "source": [
    "modelseq.summary()"
   ]
  },
  {
   "cell_type": "code",
   "execution_count": null,
   "metadata": {
    "colab": {
     "base_uri": "https://localhost:8080/",
     "height": 35
    },
    "colab_type": "code",
    "executionInfo": {
     "elapsed": 154679,
     "status": "ok",
     "timestamp": 1552662885654,
     "user": {
      "displayName": "sairam janakiraman",
      "photoUrl": "",
      "userId": "11677302178638953515"
     },
     "user_tz": -330
    },
    "id": "8ss_KR9oJyba",
    "outputId": "ab0ded86-5db3-4dd0-c096-fd95c328a489"
   },
   "outputs": [],
   "source": [
    "print(y_trainnew.shape)"
   ]
  },
  {
   "cell_type": "code",
   "execution_count": null,
   "metadata": {
    "colab": {
     "base_uri": "https://localhost:8080/",
     "height": 837
    },
    "colab_type": "code",
    "executionInfo": {
     "elapsed": 161606,
     "status": "ok",
     "timestamp": 1552662885639,
     "user": {
      "displayName": "sairam janakiraman",
      "photoUrl": "",
      "userId": "11677302178638953515"
     },
     "user_tz": -330
    },
    "id": "n24DWQ9J8hgd",
    "outputId": "ed0195dc-99b8-4a35-d3a4-1e8ff05d34b5"
   },
   "outputs": [],
   "source": [
    "batch_size = 64\n",
    "nb_epochs = 10\n",
    "history = modelseq.fit(x_trainnew,y_trainnew,\n",
    "                    epochs=20, \n",
    "                    validation_data=(x_val,y_val),\n",
    "                    verbose = 1,\n",
    "                    initial_epoch=0)"
   ]
  },
  {
   "cell_type": "code",
   "execution_count": null,
   "metadata": {
    "colab": {},
    "colab_type": "code",
    "id": "E6tChU0g8kqQ"
   },
   "outputs": [],
   "source": []
  }
 ],
 "metadata": {
  "accelerator": "GPU",
  "colab": {
   "collapsed_sections": [],
   "name": "R7_CNN_External_lab_15MAR2019_Sairam.ipynb",
   "provenance": [],
   "version": "0.3.2"
  },
  "kernelspec": {
   "display_name": "Python 3",
   "language": "python",
   "name": "python3"
  },
  "language_info": {
   "codemirror_mode": {
    "name": "ipython",
    "version": 3
   },
   "file_extension": ".py",
   "mimetype": "text/x-python",
   "name": "python",
   "nbconvert_exporter": "python",
   "pygments_lexer": "ipython3",
   "version": "3.6.5"
  }
 },
 "nbformat": 4,
 "nbformat_minor": 1
}
